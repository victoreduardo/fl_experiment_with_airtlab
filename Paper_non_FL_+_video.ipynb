{
  "nbformat": 4,
  "nbformat_minor": 0,
  "metadata": {
    "colab": {
      "name": "Paper: non-FL + video.ipynb",
      "provenance": [],
      "collapsed_sections": [
        "BgbmTjqmUXfW"
      ],
      "mount_file_id": "1bkc4Amt81i4vfKJNOQAQBRTfpc__ClTr",
      "authorship_tag": "ABX9TyPSjbHTnSPBii3J6rbQUOyU",
      "include_colab_link": true
    },
    "kernelspec": {
      "name": "python3",
      "display_name": "Python 3"
    },
    "language_info": {
      "name": "python"
    }
  },
  "cells": [
    {
      "cell_type": "markdown",
      "metadata": {
        "id": "view-in-github",
        "colab_type": "text"
      },
      "source": [
        "<a href=\"https://colab.research.google.com/github/victoreduardo/fl_experiment_with_airtlab/blob/main/Paper_non_FL_%2B_video.ipynb\" target=\"_parent\"><img src=\"https://colab.research.google.com/assets/colab-badge.svg\" alt=\"Open In Colab\"/></a>"
      ]
    },
    {
      "cell_type": "markdown",
      "source": [
        "### Libs"
      ],
      "metadata": {
        "id": "TRQWHUAJVaRl"
      }
    },
    {
      "cell_type": "code",
      "metadata": {
        "colab": {
          "base_uri": "https://localhost:8080/"
        },
        "id": "kad1ceAw0SIK",
        "outputId": "a31edbec-721c-4c50-b7f0-9b420dc3376e"
      },
      "source": [
        "from google.colab import drive\n",
        "drive.mount('/content/drive')"
      ],
      "execution_count": null,
      "outputs": [
        {
          "output_type": "stream",
          "name": "stdout",
          "text": [
            "Drive already mounted at /content/drive; to attempt to forcibly remount, call drive.mount(\"/content/drive\", force_remount=True).\n"
          ]
        }
      ]
    },
    {
      "cell_type": "code",
      "metadata": {
        "colab": {
          "base_uri": "https://localhost:8080/"
        },
        "id": "WM8uSlQi06MI",
        "outputId": "fda2850e-b8f8-4d14-ff38-cbf90a24bff0"
      },
      "source": [
        "!pip install mlflow\n",
        "!pip install flwr"
      ],
      "execution_count": null,
      "outputs": [
        {
          "output_type": "stream",
          "name": "stdout",
          "text": [
            "Requirement already satisfied: mlflow in /usr/local/lib/python3.7/dist-packages (1.23.1)\n",
            "Requirement already satisfied: pandas in /usr/local/lib/python3.7/dist-packages (from mlflow) (1.3.5)\n",
            "Requirement already satisfied: scipy in /usr/local/lib/python3.7/dist-packages (from mlflow) (1.4.1)\n",
            "Requirement already satisfied: gitpython>=2.1.0 in /usr/local/lib/python3.7/dist-packages (from mlflow) (3.1.26)\n",
            "Requirement already satisfied: protobuf>=3.7.0 in /usr/local/lib/python3.7/dist-packages (from mlflow) (3.17.3)\n",
            "Requirement already satisfied: entrypoints in /usr/local/lib/python3.7/dist-packages (from mlflow) (0.4)\n",
            "Requirement already satisfied: requests>=2.17.3 in /usr/local/lib/python3.7/dist-packages (from mlflow) (2.23.0)\n",
            "Requirement already satisfied: importlib-metadata!=4.7.0,>=3.7.0 in /usr/local/lib/python3.7/dist-packages (from mlflow) (4.10.1)\n",
            "Requirement already satisfied: prometheus-flask-exporter in /usr/local/lib/python3.7/dist-packages (from mlflow) (0.18.7)\n",
            "Requirement already satisfied: cloudpickle in /usr/local/lib/python3.7/dist-packages (from mlflow) (1.3.0)\n",
            "Requirement already satisfied: pyyaml>=5.1 in /usr/local/lib/python3.7/dist-packages (from mlflow) (6.0)\n",
            "Requirement already satisfied: databricks-cli>=0.8.7 in /usr/local/lib/python3.7/dist-packages (from mlflow) (0.16.4)\n",
            "Requirement already satisfied: sqlparse>=0.3.1 in /usr/local/lib/python3.7/dist-packages (from mlflow) (0.4.2)\n",
            "Requirement already satisfied: docker>=4.0.0 in /usr/local/lib/python3.7/dist-packages (from mlflow) (5.0.3)\n",
            "Requirement already satisfied: alembic in /usr/local/lib/python3.7/dist-packages (from mlflow) (1.7.6)\n",
            "Requirement already satisfied: click>=7.0 in /usr/local/lib/python3.7/dist-packages (from mlflow) (7.1.2)\n",
            "Requirement already satisfied: querystring-parser in /usr/local/lib/python3.7/dist-packages (from mlflow) (1.2.4)\n",
            "Requirement already satisfied: sqlalchemy in /usr/local/lib/python3.7/dist-packages (from mlflow) (1.4.31)\n",
            "Requirement already satisfied: numpy in /usr/local/lib/python3.7/dist-packages (from mlflow) (1.19.5)\n",
            "Requirement already satisfied: packaging in /usr/local/lib/python3.7/dist-packages (from mlflow) (21.3)\n",
            "Requirement already satisfied: gunicorn in /usr/local/lib/python3.7/dist-packages (from mlflow) (20.1.0)\n",
            "Requirement already satisfied: Flask in /usr/local/lib/python3.7/dist-packages (from mlflow) (1.1.4)\n",
            "Requirement already satisfied: pytz in /usr/local/lib/python3.7/dist-packages (from mlflow) (2018.9)\n",
            "Requirement already satisfied: six>=1.10.0 in /usr/local/lib/python3.7/dist-packages (from databricks-cli>=0.8.7->mlflow) (1.15.0)\n",
            "Requirement already satisfied: tabulate>=0.7.7 in /usr/local/lib/python3.7/dist-packages (from databricks-cli>=0.8.7->mlflow) (0.8.9)\n",
            "Requirement already satisfied: websocket-client>=0.32.0 in /usr/local/lib/python3.7/dist-packages (from docker>=4.0.0->mlflow) (1.2.3)\n",
            "Requirement already satisfied: gitdb<5,>=4.0.1 in /usr/local/lib/python3.7/dist-packages (from gitpython>=2.1.0->mlflow) (4.0.9)\n",
            "Requirement already satisfied: typing-extensions>=3.7.4.3 in /usr/local/lib/python3.7/dist-packages (from gitpython>=2.1.0->mlflow) (3.10.0.2)\n",
            "Requirement already satisfied: smmap<6,>=3.0.1 in /usr/local/lib/python3.7/dist-packages (from gitdb<5,>=4.0.1->gitpython>=2.1.0->mlflow) (5.0.0)\n",
            "Requirement already satisfied: zipp>=0.5 in /usr/local/lib/python3.7/dist-packages (from importlib-metadata!=4.7.0,>=3.7.0->mlflow) (3.7.0)\n",
            "Requirement already satisfied: chardet<4,>=3.0.2 in /usr/local/lib/python3.7/dist-packages (from requests>=2.17.3->mlflow) (3.0.4)\n",
            "Requirement already satisfied: urllib3!=1.25.0,!=1.25.1,<1.26,>=1.21.1 in /usr/local/lib/python3.7/dist-packages (from requests>=2.17.3->mlflow) (1.24.3)\n",
            "Requirement already satisfied: certifi>=2017.4.17 in /usr/local/lib/python3.7/dist-packages (from requests>=2.17.3->mlflow) (2021.10.8)\n",
            "Requirement already satisfied: idna<3,>=2.5 in /usr/local/lib/python3.7/dist-packages (from requests>=2.17.3->mlflow) (2.10)\n",
            "Requirement already satisfied: Mako in /usr/local/lib/python3.7/dist-packages (from alembic->mlflow) (1.1.6)\n",
            "Requirement already satisfied: importlib-resources in /usr/local/lib/python3.7/dist-packages (from alembic->mlflow) (5.4.0)\n",
            "Requirement already satisfied: greenlet!=0.4.17 in /usr/local/lib/python3.7/dist-packages (from sqlalchemy->mlflow) (1.1.2)\n",
            "Requirement already satisfied: Werkzeug<2.0,>=0.15 in /usr/local/lib/python3.7/dist-packages (from Flask->mlflow) (1.0.1)\n",
            "Requirement already satisfied: itsdangerous<2.0,>=0.24 in /usr/local/lib/python3.7/dist-packages (from Flask->mlflow) (1.1.0)\n",
            "Requirement already satisfied: Jinja2<3.0,>=2.10.1 in /usr/local/lib/python3.7/dist-packages (from Flask->mlflow) (2.11.3)\n",
            "Requirement already satisfied: MarkupSafe>=0.23 in /usr/local/lib/python3.7/dist-packages (from Jinja2<3.0,>=2.10.1->Flask->mlflow) (2.0.1)\n",
            "Requirement already satisfied: setuptools>=3.0 in /usr/local/lib/python3.7/dist-packages (from gunicorn->mlflow) (57.4.0)\n",
            "Requirement already satisfied: pyparsing!=3.0.5,>=2.0.2 in /usr/local/lib/python3.7/dist-packages (from packaging->mlflow) (3.0.7)\n",
            "Requirement already satisfied: python-dateutil>=2.7.3 in /usr/local/lib/python3.7/dist-packages (from pandas->mlflow) (2.8.2)\n",
            "Requirement already satisfied: prometheus-client in /usr/local/lib/python3.7/dist-packages (from prometheus-flask-exporter->mlflow) (0.13.1)\n",
            "Requirement already satisfied: flwr in /usr/local/lib/python3.7/dist-packages (0.17.0)\n",
            "Requirement already satisfied: grpcio<2.0.0,>=1.27.2 in /usr/local/lib/python3.7/dist-packages (from flwr) (1.43.0)\n",
            "Requirement already satisfied: google<3.0.0,>=2.0.3 in /usr/local/lib/python3.7/dist-packages (from flwr) (2.0.3)\n",
            "Requirement already satisfied: protobuf<4.0.0,>=3.12.1 in /usr/local/lib/python3.7/dist-packages (from flwr) (3.17.3)\n",
            "Requirement already satisfied: numpy<2.0.0,>=1.19.0 in /usr/local/lib/python3.7/dist-packages (from flwr) (1.19.5)\n",
            "Requirement already satisfied: beautifulsoup4 in /usr/local/lib/python3.7/dist-packages (from google<3.0.0,>=2.0.3->flwr) (4.6.3)\n",
            "Requirement already satisfied: six>=1.5.2 in /usr/local/lib/python3.7/dist-packages (from grpcio<2.0.0,>=1.27.2->flwr) (1.15.0)\n"
          ]
        }
      ]
    },
    {
      "cell_type": "code",
      "metadata": {
        "id": "RygcqXOX5Wh1"
      },
      "source": [
        "from typing import Dict, Optional, Tuple\n",
        "\n",
        "import flwr as fl\n",
        "import tensorflow as tf\n",
        "import os\n",
        "import numpy as np\n",
        "\n",
        "from tensorflow.keras.preprocessing.image import ImageDataGenerator\n",
        "from tensorflow.keras.applications.inception_v3 import InceptionV3\n",
        "from tensorflow.keras import layers\n",
        "from tensorflow.keras import Model\n",
        "from tensorflow.keras.optimizers import RMSprop\n",
        "from keras.preprocessing import image\n",
        "\n",
        "import mlflow\n",
        "\n",
        "# Metricas\n",
        "from sklearn.metrics import accuracy_score\n",
        "from sklearn.metrics import precision_score\n",
        "from sklearn.metrics import recall_score\n",
        "from sklearn.metrics import f1_score\n",
        "from sklearn.metrics import roc_auc_score\n",
        "from sklearn.metrics import classification_report\n",
        "from sklearn.metrics import confusion_matrix\n",
        "import matplotlib.pyplot as plt\n",
        "import seaborn as sns"
      ],
      "execution_count": null,
      "outputs": []
    },
    {
      "cell_type": "code",
      "metadata": {
        "id": "4qr58QkP5ZWf"
      },
      "source": [
        "MODELS_PATH = '/content/drive/MyDrive/FL/'\n",
        "SAVE_MODELS_PATH = '/content/drive/MyDrive/FL/model'\n",
        "DATASET_PATH = '/content/drive/MyDrive/FL/data/AIRTLab/'\n",
        "DATASET_VALID_PATH = '/content/drive/MyDrive/FL/data/AIRTLab/test/'\n",
        "TARGET_SIZE = (120,160)\n",
        "DESIRED_ACCURACY = 0.995\n",
        "\n",
        "VIOLENCIA_DIR = 'violent'\n",
        "N_VIOLENCIA_DIR = 'non-violent'"
      ],
      "execution_count": null,
      "outputs": []
    },
    {
      "cell_type": "code",
      "metadata": {
        "colab": {
          "base_uri": "https://localhost:8080/"
        },
        "id": "sBChF1HB19LO",
        "outputId": "6221223c-3af7-485f-b4db-ce651a7cb2f3"
      },
      "source": [
        "!databricks configure --host https://community.cloud.databricks.com/\n",
        "mlflow.set_tracking_uri(\"databricks\")\n",
        "mlflow.set_experiment(\"/Users/vess@cesar.school/non-FL-AIRTLab\")"
      ],
      "execution_count": null,
      "outputs": [
        {
          "output_type": "stream",
          "name": "stdout",
          "text": [
            "Username: vess@cesar.school\n",
            "Password: \n",
            "Repeat for confirmation: \n"
          ]
        },
        {
          "output_type": "execute_result",
          "data": {
            "text/plain": [
              "<Experiment: artifact_location='dbfs:/databricks/mlflow-tracking/2157939619876676', experiment_id='2157939619876676', lifecycle_stage='active', name='/Users/vess@cesar.school/non-FL-AIRTLab', tags={'mlflow.experimentType': 'MLFLOW_EXPERIMENT',\n",
              " 'mlflow.ownerEmail': 'vess@cesar.school',\n",
              " 'mlflow.ownerId': '8444989453852335'}>"
            ]
          },
          "metadata": {},
          "execution_count": 31
        }
      ]
    },
    {
      "cell_type": "code",
      "metadata": {
        "colab": {
          "base_uri": "https://localhost:8080/"
        },
        "id": "LuNqzimGn2F2",
        "outputId": "ac08acbb-d2ec-4782-c9ff-9003d278b10d"
      },
      "source": [
        "mlflow.end_run()\n",
        "mlflow.start_run(run_name='load_vgg16')"
      ],
      "execution_count": null,
      "outputs": [
        {
          "output_type": "execute_result",
          "data": {
            "text/plain": [
              "<ActiveRun: >"
            ]
          },
          "metadata": {},
          "execution_count": 32
        }
      ]
    },
    {
      "cell_type": "markdown",
      "metadata": {
        "id": "9CBX6txe2ze1"
      },
      "source": [
        "### FL Utils"
      ]
    },
    {
      "cell_type": "code",
      "metadata": {
        "id": "dUunJWK95dQp"
      },
      "source": [
        "def test_dataset():\n",
        "    train_datagen = ImageDataGenerator(rescale = 1.0/255.)\n",
        "\n",
        "    return train_datagen.flow_from_directory(DATASET_VALID_PATH,\n",
        "                                             batch_size=32,\n",
        "                                             class_mode='categorical',\n",
        "                                             target_size=TARGET_SIZE)\n",
        "\n",
        "def train_dataset():\n",
        "    train_datagen = ImageDataGenerator(rescale = 1.0/255.)\n",
        "\n",
        "    return train_datagen.flow_from_directory(DATASET_PATH + 'train/',\n",
        "                                             batch_size = 32,\n",
        "                                             class_mode = 'categorical',\n",
        "                                             target_size =TARGET_SIZE)\n"
      ],
      "execution_count": null,
      "outputs": []
    },
    {
      "cell_type": "markdown",
      "metadata": {
        "id": "47qL41vLmHgV"
      },
      "source": [
        "### Models"
      ]
    },
    {
      "cell_type": "code",
      "source": [
        "metrics = [\n",
        "  'accuracy'\n",
        "]"
      ],
      "metadata": {
        "id": "KWTyGDxc93Al"
      },
      "execution_count": null,
      "outputs": []
    },
    {
      "cell_type": "code",
      "metadata": {
        "id": "hbhVohcg5bWY"
      },
      "source": [
        "def load_inceptionv3():\n",
        "    local_weights_file = MODELS_PATH + 'inception_v3_weights_tf_dim_ordering_tf_kernels_notop.h5'\n",
        "    pre_trained_model = InceptionV3(input_shape = (120, 160, 3),\n",
        "                                    include_top = False,\n",
        "                                    weights = None)\n",
        "\n",
        "    pre_trained_model.load_weights(local_weights_file)\n",
        "    # Make all the layers in the pre-trained model non-trainable\n",
        "    for layer in pre_trained_model.layers:\n",
        "        layer.trainable = False\n",
        "\n",
        "    last_layer = pre_trained_model.get_layer('mixed10')\n",
        "    print('last layer output shape: ', last_layer.output_shape)\n",
        "    last_output = last_layer.output\n",
        "\n",
        "    # Flatten the output layer to 1 dimension\n",
        "    x = layers.Flatten()(last_output)\n",
        "    # Add a fully connected layer with 1,024 hidden units and ReLU activation\n",
        "    x = layers.Dense(1024, activation='relu')(x)\n",
        "    # Add a dropout rate of 0.2\n",
        "    x = layers.Dropout(0.2)(x)\n",
        "    # Add a final sigmoid layer for classification\n",
        "    x = layers.Dense(2, activation='softmax')(x)\n",
        "\n",
        "    model = Model(pre_trained_model.input, x)\n",
        "    model.compile(optimizer=RMSprop(learning_rate=0.0001),\n",
        "                  loss='categorical_crossentropy', \n",
        "                  metrics=['accuracy'])\n",
        "\n",
        "    return model"
      ],
      "execution_count": null,
      "outputs": []
    },
    {
      "cell_type": "code",
      "metadata": {
        "id": "6lxaDbf_mHF2"
      },
      "source": [
        "from tensorflow.keras.applications.mobilenet_v2 import MobileNetV2\n",
        "\n",
        "def load_mobilenetv2():\n",
        "    local_weights_file = MODELS_PATH + 'mobilenet_v2_weights_tf_dim_ordering_tf_kernels_1.0_128_no_top.h5'\n",
        "    pre_trained_model = MobileNetV2(input_shape = (120, 160, 3),\n",
        "                                    include_top = False,\n",
        "                                    weights = None)\n",
        "\n",
        "    pre_trained_model.load_weights(local_weights_file)\n",
        "    # Make all the layers in the pre-trained model non-trainable\n",
        "    for layer in pre_trained_model.layers:\n",
        "        layer.trainable = False\n",
        "\n",
        "    last_layer = pre_trained_model.get_layer('out_relu')\n",
        "    print('last layer output shape: ', last_layer.output_shape)\n",
        "    last_output = last_layer.output\n",
        "\n",
        "    # Flatten the output layer to 1 dimension\n",
        "    x = layers.Flatten()(last_output)\n",
        "    # Add a fully connected layer with 1,024 hidden units and ReLU activation\n",
        "    x = layers.Dense(1024, activation='relu')(x)\n",
        "    # Add a dropout rate of 0.2\n",
        "    x = layers.Dropout(0.2)(x)\n",
        "    # Add a final sigmoid layer for classification\n",
        "    x = layers.Dense(2, activation='softmax')(x)\n",
        "\n",
        "    model = Model(pre_trained_model.input, x)\n",
        "    model.compile(optimizer=RMSprop(learning_rate=0.0001), loss='categorical_crossentropy', metrics=metrics)\n",
        "\n",
        "    return model"
      ],
      "execution_count": null,
      "outputs": []
    },
    {
      "cell_type": "code",
      "metadata": {
        "id": "VOciGGxyeJ-a"
      },
      "source": [
        "from tensorflow.keras.applications.resnet_v2 import ResNet152V2\n",
        "\n",
        "def load_resnet152v2():\n",
        "    local_weights_file = MODELS_PATH + 'resnet152v2_weights_tf_dim_ordering_tf_kernels_notop.h5'\n",
        "    pre_trained_model = ResNet152V2(input_shape = (120, 160, 3),\n",
        "                                    include_top = False,\n",
        "                                    weights = None)\n",
        "\n",
        "    pre_trained_model.load_weights(local_weights_file)\n",
        "    # Make all the layers in the pre-trained model non-trainable\n",
        "    for layer in pre_trained_model.layers:\n",
        "        layer.trainable = False\n",
        "\n",
        "    last_layer = pre_trained_model.get_layer('post_bn')\n",
        "    last_output = last_layer.output\n",
        "\n",
        "    # Flatten the output layer to 1 dimension\n",
        "    x = layers.Flatten()(last_output)\n",
        "    # Add a fully connected layer with 1,024 hidden units and ReLU activation\n",
        "    x = layers.Dense(1024, activation='relu')(x)\n",
        "    # Add a dropout rate of 0.2\n",
        "    x = layers.Dropout(0.2)(x)\n",
        "    # Add a final sigmoid layer for classification\n",
        "    x = layers.Dense(2, activation='softmax')(x)\n",
        "\n",
        "    model = Model(pre_trained_model.input, x)\n",
        "    model.compile(optimizer=RMSprop(learning_rate=0.0001), loss='categorical_crossentropy', metrics=metrics)\n",
        "\n",
        "    return model"
      ],
      "execution_count": null,
      "outputs": []
    },
    {
      "cell_type": "code",
      "metadata": {
        "id": "YrJYyDYbZ55a"
      },
      "source": [
        "from tensorflow.keras.applications.vgg16 import VGG16\n",
        "\n",
        "def load_vgg16():\n",
        "    local_weights_file = MODELS_PATH + 'vgg16_weights_tf_dim_ordering_tf_kernels_notop.h5'\n",
        "    pre_trained_model = VGG16(input_shape = (120, 160, 3),\n",
        "                                    include_top = False,\n",
        "                                    weights = None)\n",
        "\n",
        "    pre_trained_model.load_weights(local_weights_file)\n",
        "    # Make all the layers in the pre-trained model non-trainable\n",
        "    for layer in pre_trained_model.layers:\n",
        "        layer.trainable = False\n",
        "\n",
        "    last_layer = pre_trained_model.get_layer('block5_pool')\n",
        "    last_output = last_layer.output\n",
        "\n",
        "    # Flatten the output layer to 1 dimension\n",
        "    x = layers.Flatten()(last_output)\n",
        "    # Add a fully connected layer with 1,024 hidden units and ReLU activation\n",
        "    x = layers.Dense(1024, activation='relu')(x)\n",
        "    # Add a dropout rate of 0.2\n",
        "    x = layers.Dropout(0.2)(x)\n",
        "    # Add a final sigmoid layer for classification\n",
        "    x = layers.Dense(2, activation='softmax')(x)\n",
        "\n",
        "    model = Model(pre_trained_model.input, x)\n",
        "    model.compile(optimizer=RMSprop(learning_rate=0.0001), loss='categorical_crossentropy', metrics=metrics)\n",
        "\n",
        "    return model"
      ],
      "execution_count": null,
      "outputs": []
    },
    {
      "cell_type": "markdown",
      "metadata": {
        "id": "N7vr1qAj2VKr"
      },
      "source": [
        "### Metrics"
      ]
    },
    {
      "cell_type": "code",
      "metadata": {
        "id": "qbSOLslz1b8V"
      },
      "source": [
        "def save_model(model):\n",
        "    diretorio = '/content/sample_data/output/'\n",
        "    model.save(diretorio)\n",
        "    converter_tflite = tf.lite.TFLiteConverter.from_saved_model(diretorio)\n",
        "    tflite_model = converter_tflite.convert()\n",
        "    with open(diretorio + '/incepv3.tflite', 'wb') as f:\n",
        "        f.write(tflite_model)\n",
        "    mlflow.tensorflow.log_model(tflite_model)\n",
        "\n",
        "\n",
        "def save_summary(model):\n",
        "    from contextlib import redirect_stdout\n",
        "    temp_name = 'modelsummary.txt'\n",
        "    with open(temp_name, 'w') as f:\n",
        "        with redirect_stdout(f):\n",
        "            model.summary()\n",
        "    mlflow.log_artifact(temp_name, 'Model Summary')\n",
        "\n",
        "    try:\n",
        "        os.remove(temp_name)    \n",
        "    except FileNotFoundError as e:\n",
        "        print(f\"{temp_name} file is not found\")\n",
        "\n",
        "\n",
        "def previsao(modelo, DirPositivo, DirNegativo):\n",
        "    ''' Realiza a validacao do modelo\n",
        "    '''\n",
        "    ypred = []\n",
        "    yreal = []\n",
        "    FP, FN, TP, TN = 0,0,0,0\n",
        "\n",
        "    for filename in os.listdir(DirPositivo):\n",
        "        yreal.append(1)\n",
        "        if \"jpg\" in filename:\n",
        "            file_path = os.path.join(DirPositivo, filename)\n",
        "            img = image.load_img(file_path, target_size=TARGET_SIZE)\n",
        "            x = image.img_to_array(img)\n",
        "            x = np.expand_dims(x, axis=0)\n",
        "            x = x / 255.\n",
        "            images = np.vstack([x])\n",
        "            classes = modelo.predict(images)\n",
        "            #modelo.predict()\n",
        "            if classes[0][1]>0.5:\n",
        "                ypred.append(1)\n",
        "                TP+=1\n",
        "                print(\"\\rTP: %i; FP: %i; TN: %i; FN: %i\"%(TP,FP,TN,FN), end='')\n",
        "            else:\n",
        "                ypred.append(0)\n",
        "                FP+=1\n",
        "                print(\"\\rTP: %i; FP: %i; TN: %i; FN: %i\"%(TP,FP,TN,FN), end='')\n",
        "\n",
        "    for filename in os.listdir(DirNegativo):\n",
        "        yreal.append(0)\n",
        "        if \"jpg\" in filename:\n",
        "            file_path = os.path.join(DirNegativo, filename)\n",
        "            img = image.load_img(file_path, target_size=TARGET_SIZE)\n",
        "            x = image.img_to_array(img)\n",
        "            x = np.expand_dims(x, axis=0)\n",
        "            x = x / 255.\n",
        "\n",
        "            images = np.vstack([x])\n",
        "            classes = modelo.predict(images)\n",
        "            if classes[0][0]<=0.5:\n",
        "                ypred.append(0)\n",
        "                TN+=1\n",
        "                print(\"\\rTP: %i; FP: %i; TN: %i; FN: %i\"%(TP,FP,TN,FN), end='')\n",
        "            else:\n",
        "                ypred.append(1)\n",
        "                FN+=1\n",
        "                print(\"\\rTP: %i; FP: %i; TN: %i; FN: %i\"%(TP,FP,TN,FN), end='')\n",
        "\n",
        "    log_scalar('TP', TP, 1)\n",
        "    log_scalar('FP', FP, 1)\n",
        "    log_scalar('TN', TN, 1)\n",
        "    log_scalar('FN', FN, 1)\n",
        "\n",
        "    return yreal, ypred\n",
        "\n",
        "\n",
        "def calculate_metrics(y_true, y_predict, round_num):\n",
        "    acuracia = accuracy_score(y_true, y_predict)\n",
        "    precision = precision_score(y_true, y_predict)\n",
        "    recall = recall_score(y_true, y_predict)\n",
        "    f1 = f1_score(y_true, y_predict)\n",
        "\n",
        "    print(\"\\nAcurácia: {}\\nPrecision: {}\\nRecall: {}\\nF1-Score: {}\".format(acuracia, precision, recall, f1))\n",
        "\n",
        "    log_scalar('accuracy_score', acuracia, round_num)\n",
        "    log_scalar('precision_score', precision, round_num)\n",
        "    log_scalar('recall_score', recall, round_num)\n",
        "    log_scalar('f1_score', f1, round_num)\n",
        "\n",
        "def log_scalar(name, value, step):\n",
        "    \"\"\"Log a scalar value to both MLflow and TensorBoard\"\"\"\n",
        "    mlflow.log_metric(name, value, step=step)\n",
        "\n",
        "def gerar_matriz_confusao(y_true, y_pred, round_num):\n",
        "    matriz_conf = matriz_confusao(y_true, y_pred)\n",
        "    temp_name = \"confusion-matrix-(round-\" + str(round_num) + \").png\"\n",
        "    matriz_conf.savefig(temp_name)\n",
        "    mlflow.log_artifact(temp_name, \"confusion-matrix-plots\")\n",
        "\n",
        "\n",
        "def matriz_confusao(y_true, y_predict):\n",
        "    matriz_conf = confusion_matrix(y_true, y_predict)\n",
        "    fig = plt.figure()\n",
        "    ax = plt.subplot()\n",
        "    sns.heatmap(matriz_conf, annot=True, cmap='Blues', ax=ax)\n",
        "\n",
        "    ax.set_xlabel('Valor Predito')\n",
        "    ax.set_ylabel('Valor Real')\n",
        "    ax.set_title('Matriz de Confusão')\n",
        "    ax.xaxis.set_ticklabels(['0', '1'])\n",
        "    ax.yaxis.set_ticklabels(['0', '1'])\n",
        "    plt.close()\n",
        "    return fig\n"
      ],
      "execution_count": null,
      "outputs": []
    },
    {
      "cell_type": "code",
      "source": [
        "class accCallback(tf.keras.callbacks.Callback):\n",
        "  def on_epoch_end(self, epoch, logs={}):\n",
        "    if(logs.get('accuracy')>DESIRED_ACCURACY):\n",
        "      print(\"\\nReached 99.5% accuracy so cancelling training!\")\n",
        "      self.model.stop_training = True"
      ],
      "metadata": {
        "id": "fNKaAEMfh8T4"
      },
      "execution_count": null,
      "outputs": []
    },
    {
      "cell_type": "markdown",
      "metadata": {
        "id": "rtXYka592Xzb"
      },
      "source": [
        "### Main"
      ]
    },
    {
      "cell_type": "code",
      "metadata": {
        "id": "_jgIeoWz1geO"
      },
      "source": [
        "model = load_inceptionv3()\n",
        "#model = load_mobilenetv2()\n",
        "#model = load_resnet152v2()\n",
        "#model = load_vgg16()"
      ],
      "execution_count": null,
      "outputs": []
    },
    {
      "cell_type": "code",
      "source": [
        "history = model.fit(\n",
        "    train_dataset(),\n",
        "    epochs=40,\n",
        "    batch_size=32,\n",
        "    validation_data=test_dataset(),\n",
        "    callbacks=[accCallback()]\n",
        ")"
      ],
      "metadata": {
        "colab": {
          "base_uri": "https://localhost:8080/"
        },
        "id": "WZKFu-PqTU2x",
        "outputId": "e112cfd5-cc32-436e-cc0d-b1e8c582bdf1"
      },
      "execution_count": null,
      "outputs": [
        {
          "output_type": "stream",
          "name": "stdout",
          "text": [
            "Found 2926 images belonging to 2 classes.\n",
            "Found 1252 images belonging to 2 classes.\n",
            "Epoch 1/40\n",
            "92/92 [==============================] - 868s 9s/step - loss: 0.4049 - accuracy: 0.8295 - val_loss: 0.0940 - val_accuracy: 0.9856\n",
            "Epoch 2/40\n",
            "92/92 [==============================] - 839s 9s/step - loss: 0.1222 - accuracy: 0.9518 - val_loss: 0.0456 - val_accuracy: 0.9896\n",
            "Epoch 3/40\n",
            "92/92 [==============================] - 841s 9s/step - loss: 0.0514 - accuracy: 0.9819 - val_loss: 0.0326 - val_accuracy: 0.9904\n",
            "Epoch 4/40\n",
            "92/92 [==============================] - 843s 9s/step - loss: 0.0309 - accuracy: 0.9915 - val_loss: 0.0350 - val_accuracy: 0.9920\n",
            "Epoch 5/40\n",
            "92/92 [==============================] - 838s 9s/step - loss: 0.0235 - accuracy: 0.9908 - val_loss: 0.0126 - val_accuracy: 0.9984\n",
            "Epoch 6/40\n",
            "92/92 [==============================] - ETA: 0s - loss: 0.0120 - accuracy: 0.9962\n",
            "Reached 99.5% accuracy so cancelling training!\n",
            "92/92 [==============================] - 840s 9s/step - loss: 0.0120 - accuracy: 0.9962 - val_loss: 0.0101 - val_accuracy: 0.9960\n"
          ]
        }
      ]
    },
    {
      "cell_type": "code",
      "source": [
        "loss, accuracy, f1score = model.evaluate(test_images, test_labels, verbose=1)\n",
        "\n",
        "print(accuracy, f1score)"
      ],
      "metadata": {
        "id": "hbkxSwioRHCZ"
      },
      "execution_count": null,
      "outputs": []
    },
    {
      "cell_type": "code",
      "source": [
        "mlflow.log_param('round_num', 0)\n",
        "mlflow.log_param('epochs', 40)"
      ],
      "metadata": {
        "id": "hRZAkTLMinES"
      },
      "execution_count": null,
      "outputs": []
    },
    {
      "cell_type": "code",
      "source": [
        "try:\n",
        "  mlflow.tensorflow.log_model(model)\n",
        "except:\n",
        "  print('não deu para salvar o log_modelo')"
      ],
      "metadata": {
        "colab": {
          "base_uri": "https://localhost:8080/"
        },
        "id": "nNX73atgf07g",
        "outputId": "1f7204e3-d990-4b13-9521-2ef5d224e497"
      },
      "execution_count": null,
      "outputs": [
        {
          "output_type": "stream",
          "name": "stdout",
          "text": [
            "não deu para salvar o log_modelo\n"
          ]
        }
      ]
    },
    {
      "cell_type": "code",
      "source": [
        "try:\n",
        "  save_model(model)\n",
        "except:\n",
        "  print('não deu para salvar o modelo')"
      ],
      "metadata": {
        "colab": {
          "base_uri": "https://localhost:8080/"
        },
        "id": "-urZpWI0gZaR",
        "outputId": "19da4954-a970-4496-891e-40bfd404de53"
      },
      "execution_count": null,
      "outputs": [
        {
          "output_type": "stream",
          "name": "stdout",
          "text": [
            "INFO:tensorflow:Assets written to: /content/sample_data/output/assets\n"
          ]
        },
        {
          "output_type": "stream",
          "name": "stderr",
          "text": [
            "INFO:tensorflow:Assets written to: /content/sample_data/output/assets\n",
            "WARNING:absl:Buffer deduplication procedure will be skipped when flatbuffer library is not properly loaded\n"
          ]
        },
        {
          "output_type": "stream",
          "name": "stdout",
          "text": [
            "não deu para salvar o modelo\n"
          ]
        }
      ]
    },
    {
      "cell_type": "code",
      "source": [
        "try:\n",
        "  save_summary(model)\n",
        "except:\n",
        "  print('não deu para salvar o summary')"
      ],
      "metadata": {
        "id": "G278M5DwgtQS"
      },
      "execution_count": null,
      "outputs": []
    },
    {
      "cell_type": "code",
      "source": [
        "y_true, y_pred = previsao(model,\n",
        "                          DATASET_VALID_PATH + VIOLENCIA_DIR,\n",
        "                          DATASET_VALID_PATH + N_VIOLENCIA_DIR)"
      ],
      "metadata": {
        "colab": {
          "base_uri": "https://localhost:8080/"
        },
        "id": "g3xqm_Eyf2AQ",
        "outputId": "fe4099cf-63dd-4140-db79-04a0da07dbf3"
      },
      "execution_count": null,
      "outputs": [
        {
          "output_type": "stream",
          "name": "stdout",
          "text": [
            "TP: 622; FP: 4; TN: 1; FN: 625"
          ]
        }
      ]
    },
    {
      "cell_type": "code",
      "source": [
        "try:\n",
        "  calculate_metrics(y_true, y_pred, 1)\n",
        "except:\n",
        "  print('não deu para calcular as metrias')"
      ],
      "metadata": {
        "colab": {
          "base_uri": "https://localhost:8080/"
        },
        "id": "uF4-3aeqzP-H",
        "outputId": "1fdc07dd-0109-482d-962a-8a88edb38df0"
      },
      "execution_count": null,
      "outputs": [
        {
          "output_type": "stream",
          "name": "stdout",
          "text": [
            "\n",
            "Acurácia: 0.4976038338658147\n",
            "Precision: 0.4987971130713713\n",
            "Recall: 0.9936102236421726\n",
            "F1-Score: 0.6641751201281367\n"
          ]
        }
      ]
    },
    {
      "cell_type": "code",
      "source": [
        "try:\n",
        "  gerar_matriz_confusao(y_true, y_pred, 1)\n",
        "except:\n",
        "  print('não deu para gerar a matriz de confusao')"
      ],
      "metadata": {
        "id": "zj1jm1wuzJx6"
      },
      "execution_count": null,
      "outputs": []
    },
    {
      "cell_type": "code",
      "source": [
        "log_scalar('std_acc', np.std(history.history['accuracy']), 1)\n",
        "log_scalar('std_val_acc', np.std(history.history['val_accuracy']), 1)\n",
        "log_scalar('accuracy', history.history['accuracy'][-1], 1)\n",
        "log_scalar('val_accuracy', history.history['val_accuracy'][-1], 1)"
      ],
      "metadata": {
        "id": "nYemkAKFz-cm"
      },
      "execution_count": null,
      "outputs": []
    },
    {
      "cell_type": "code",
      "source": [
        "mlflow.end_run()"
      ],
      "metadata": {
        "id": "eQLBhNDJiqND"
      },
      "execution_count": null,
      "outputs": []
    },
    {
      "cell_type": "markdown",
      "source": [
        "### Generating Friedman"
      ],
      "metadata": {
        "id": "BgbmTjqmUXfW"
      }
    },
    {
      "cell_type": "code",
      "source": [
        "!pip install orange3"
      ],
      "metadata": {
        "colab": {
          "base_uri": "https://localhost:8080/",
          "height": 1000
        },
        "id": "S3WpSNOIVQ2e",
        "outputId": "bccddd60-186e-4002-aa43-ac448e60b2c2"
      },
      "execution_count": null,
      "outputs": [
        {
          "output_type": "stream",
          "name": "stdout",
          "text": [
            "Collecting orange3\n",
            "  Downloading Orange3-3.32.0-cp37-cp37m-manylinux_2_17_x86_64.manylinux2014_x86_64.whl (29.0 MB)\n",
            "\u001b[K     |████████████████████████████████| 29.0 MB 14.0 MB/s \n",
            "\u001b[?25hCollecting pyqtgraph!=0.12.4,>=0.11.1\n",
            "  Downloading pyqtgraph-0.12.3-py3-none-any.whl (992 kB)\n",
            "\u001b[K     |████████████████████████████████| 992 kB 52.5 MB/s \n",
            "\u001b[?25hCollecting PyQtWebEngine>=5.12\n",
            "  Downloading PyQtWebEngine-5.15.5-cp36-abi3-manylinux1_x86_64.whl (228 kB)\n",
            "\u001b[K     |████████████████████████████████| 228 kB 59.8 MB/s \n",
            "\u001b[?25hRequirement already satisfied: matplotlib>=2.2.5 in /usr/local/lib/python3.7/dist-packages (from orange3) (3.2.2)\n",
            "Requirement already satisfied: python-louvain>=0.13 in /usr/local/lib/python3.7/dist-packages (from orange3) (0.16)\n",
            "Collecting AnyQt>=0.0.13\n",
            "  Downloading AnyQt-0.1.0-py3-none-any.whl (53 kB)\n",
            "\u001b[K     |████████████████████████████████| 53 kB 2.2 MB/s \n",
            "\u001b[?25hCollecting orange-canvas-core<0.2a,>=0.1.24\n",
            "  Downloading orange_canvas_core-0.1.26-py3-none-any.whl (492 kB)\n",
            "\u001b[K     |████████████████████████████████| 492 kB 56.6 MB/s \n",
            "\u001b[?25hCollecting openTSNE>=0.6.1\n",
            "  Downloading openTSNE-0.6.2-cp37-cp37m-manylinux_2_17_x86_64.manylinux2014_x86_64.whl (2.5 MB)\n",
            "\u001b[K     |████████████████████████████████| 2.5 MB 46.6 MB/s \n",
            "\u001b[?25hCollecting keyrings.alt\n",
            "  Downloading keyrings.alt-4.1.0-py3-none-any.whl (20 kB)\n",
            "Requirement already satisfied: openpyxl in /usr/local/lib/python3.7/dist-packages (from orange3) (3.0.9)\n",
            "Collecting xlsxwriter\n",
            "  Downloading XlsxWriter-3.0.3-py3-none-any.whl (149 kB)\n",
            "\u001b[K     |████████████████████████████████| 149 kB 72.3 MB/s \n",
            "\u001b[?25hCollecting baycomp>=1.0.2\n",
            "  Downloading baycomp-1.0.2-py3-none-any.whl (17 kB)\n",
            "Collecting PyQt5!=5.15.1,>=5.12\n",
            "  Downloading PyQt5-5.15.6-cp36-abi3-manylinux1_x86_64.whl (8.3 MB)\n",
            "\u001b[K     |████████████████████████████████| 8.3 MB 53.9 MB/s \n",
            "\u001b[?25hRequirement already satisfied: chardet>=3.0.2 in /usr/local/lib/python3.7/dist-packages (from orange3) (3.0.4)\n",
            "Requirement already satisfied: setuptools>=41.0.0 in /usr/local/lib/python3.7/dist-packages (from orange3) (57.4.0)\n",
            "Collecting httpx>=0.21.0\n",
            "  Downloading httpx-0.22.0-py3-none-any.whl (84 kB)\n",
            "\u001b[K     |████████████████████████████████| 84 kB 3.4 MB/s \n",
            "\u001b[?25hCollecting keyring\n",
            "  Downloading keyring-23.5.0-py3-none-any.whl (33 kB)\n",
            "Collecting orange-widget-base>=4.16.1\n",
            "  Downloading orange_widget_base-4.16.1-py3-none-any.whl (252 kB)\n",
            "\u001b[K     |████████████████████████████████| 252 kB 54.9 MB/s \n",
            "\u001b[?25hRequirement already satisfied: xlrd>=0.9.2 in /usr/local/lib/python3.7/dist-packages (from orange3) (1.1.0)\n",
            "Requirement already satisfied: pip>=18.0 in /usr/local/lib/python3.7/dist-packages (from orange3) (21.1.3)\n",
            "Requirement already satisfied: qtconsole>=4.7.2 in /usr/local/lib/python3.7/dist-packages (from orange3) (5.3.0)\n",
            "Requirement already satisfied: bottleneck>=1.3.2 in /usr/local/lib/python3.7/dist-packages (from orange3) (1.3.4)\n",
            "Collecting pygments>=2.8.0\n",
            "  Downloading Pygments-2.11.2-py3-none-any.whl (1.1 MB)\n",
            "\u001b[K     |████████████████████████████████| 1.1 MB 49.7 MB/s \n",
            "\u001b[?25hRequirement already satisfied: joblib>=0.11 in /usr/local/lib/python3.7/dist-packages (from orange3) (1.1.0)\n",
            "Requirement already satisfied: scipy>=1.3.1 in /usr/local/lib/python3.7/dist-packages (from orange3) (1.4.1)\n",
            "Collecting serverfiles\n",
            "  Downloading serverfiles-0.3.1.tar.gz (11 kB)\n",
            "Requirement already satisfied: numpy>=1.17.3 in /usr/local/lib/python3.7/dist-packages (from orange3) (1.21.5)\n",
            "Requirement already satisfied: requests in /usr/local/lib/python3.7/dist-packages (from orange3) (2.23.0)\n",
            "Requirement already satisfied: networkx in /usr/local/lib/python3.7/dist-packages (from orange3) (2.6.3)\n",
            "Requirement already satisfied: pandas>=1.3.0 in /usr/local/lib/python3.7/dist-packages (from orange3) (1.3.5)\n",
            "Requirement already satisfied: pyyaml in /usr/local/lib/python3.7/dist-packages (from orange3) (3.13)\n",
            "Requirement already satisfied: scikit-learn>=1.0.1 in /usr/local/lib/python3.7/dist-packages (from orange3) (1.0.2)\n",
            "Requirement already satisfied: charset-normalizer in /usr/local/lib/python3.7/dist-packages (from httpx>=0.21.0->orange3) (2.0.12)\n",
            "Requirement already satisfied: certifi in /usr/local/lib/python3.7/dist-packages (from httpx>=0.21.0->orange3) (2021.10.8)\n",
            "Collecting rfc3986[idna2008]<2,>=1.3\n",
            "  Downloading rfc3986-1.5.0-py2.py3-none-any.whl (31 kB)\n",
            "Collecting httpcore<0.15.0,>=0.14.5\n",
            "  Downloading httpcore-0.14.7-py3-none-any.whl (68 kB)\n",
            "\u001b[K     |████████████████████████████████| 68 kB 7.0 MB/s \n",
            "\u001b[?25hCollecting sniffio\n",
            "  Downloading sniffio-1.2.0-py3-none-any.whl (10 kB)\n",
            "Collecting h11<0.13,>=0.11\n",
            "  Downloading h11-0.12.0-py3-none-any.whl (54 kB)\n",
            "\u001b[K     |████████████████████████████████| 54 kB 3.9 MB/s \n",
            "\u001b[?25hCollecting anyio==3.*\n",
            "  Downloading anyio-3.5.0-py3-none-any.whl (79 kB)\n",
            "\u001b[K     |████████████████████████████████| 79 kB 9.1 MB/s \n",
            "\u001b[?25hRequirement already satisfied: idna>=2.8 in /usr/local/lib/python3.7/dist-packages (from anyio==3.*->httpcore<0.15.0,>=0.14.5->httpx>=0.21.0->orange3) (2.10)\n",
            "Requirement already satisfied: typing-extensions in /usr/local/lib/python3.7/dist-packages (from anyio==3.*->httpcore<0.15.0,>=0.14.5->httpx>=0.21.0->orange3) (3.10.0.2)\n",
            "Requirement already satisfied: pyparsing!=2.0.4,!=2.1.2,!=2.1.6,>=2.0.1 in /usr/local/lib/python3.7/dist-packages (from matplotlib>=2.2.5->orange3) (3.0.7)\n",
            "Requirement already satisfied: kiwisolver>=1.0.1 in /usr/local/lib/python3.7/dist-packages (from matplotlib>=2.2.5->orange3) (1.4.0)\n",
            "Requirement already satisfied: python-dateutil>=2.1 in /usr/local/lib/python3.7/dist-packages (from matplotlib>=2.2.5->orange3) (2.8.2)\n",
            "Requirement already satisfied: cycler>=0.10 in /usr/local/lib/python3.7/dist-packages (from matplotlib>=2.2.5->orange3) (0.11.0)\n",
            "Requirement already satisfied: importlib-metadata in /usr/local/lib/python3.7/dist-packages (from orange-canvas-core<0.2a,>=0.1.24->orange3) (4.11.3)\n",
            "Collecting commonmark>=0.8.1\n",
            "  Downloading commonmark-0.9.1-py2.py3-none-any.whl (51 kB)\n",
            "\u001b[K     |████████████████████████████████| 51 kB 8.0 MB/s \n",
            "\u001b[?25hCollecting qasync\n",
            "  Downloading qasync-0.23.0-py3-none-any.whl (13 kB)\n",
            "Requirement already satisfied: cachecontrol[filecache] in /usr/local/lib/python3.7/dist-packages (from orange-canvas-core<0.2a,>=0.1.24->orange3) (0.12.10)\n",
            "Collecting dictdiffer\n",
            "  Downloading dictdiffer-0.9.0-py2.py3-none-any.whl (16 kB)\n",
            "Requirement already satisfied: docutils in /usr/local/lib/python3.7/dist-packages (from orange-canvas-core<0.2a,>=0.1.24->orange3) (0.17.1)\n",
            "Requirement already satisfied: pytz>=2017.3 in /usr/local/lib/python3.7/dist-packages (from pandas>=1.3.0->orange3) (2018.9)\n",
            "Collecting PyQt5-Qt5>=5.15.2\n",
            "  Downloading PyQt5_Qt5-5.15.2-py3-none-manylinux2014_x86_64.whl (59.9 MB)\n",
            "\u001b[K     |████████████████████████████████| 59.9 MB 1.3 MB/s \n",
            "\u001b[?25hCollecting PyQt5-sip<13,>=12.8\n",
            "  Downloading PyQt5_sip-12.10.0-cp37-cp37m-manylinux1_x86_64.whl (338 kB)\n",
            "\u001b[K     |████████████████████████████████| 338 kB 56.5 MB/s \n",
            "\u001b[?25hCollecting PyQtWebEngine-Qt5>=5.15.2\n",
            "  Downloading PyQtWebEngine_Qt5-5.15.2-py3-none-manylinux2014_x86_64.whl (67.5 MB)\n",
            "\u001b[K     |████████████████████████████████| 67.5 MB 106 kB/s \n",
            "\u001b[?25hRequirement already satisfied: six>=1.5 in /usr/local/lib/python3.7/dist-packages (from python-dateutil>=2.1->matplotlib>=2.2.5->orange3) (1.15.0)\n",
            "Requirement already satisfied: traitlets in /usr/local/lib/python3.7/dist-packages (from qtconsole>=4.7.2->orange3) (5.1.1)\n",
            "Requirement already satisfied: jupyter-client>=4.1 in /usr/local/lib/python3.7/dist-packages (from qtconsole>=4.7.2->orange3) (5.3.5)\n",
            "Requirement already satisfied: pyzmq>=17.1 in /usr/local/lib/python3.7/dist-packages (from qtconsole>=4.7.2->orange3) (22.3.0)\n",
            "Requirement already satisfied: qtpy>=2.0.1 in /usr/local/lib/python3.7/dist-packages (from qtconsole>=4.7.2->orange3) (2.0.1)\n",
            "Requirement already satisfied: ipython-genutils in /usr/local/lib/python3.7/dist-packages (from qtconsole>=4.7.2->orange3) (0.2.0)\n",
            "Requirement already satisfied: ipykernel>=4.1 in /usr/local/lib/python3.7/dist-packages (from qtconsole>=4.7.2->orange3) (4.10.1)\n",
            "Requirement already satisfied: jupyter-core in /usr/local/lib/python3.7/dist-packages (from qtconsole>=4.7.2->orange3) (4.9.2)\n",
            "Requirement already satisfied: ipython>=4.0.0 in /usr/local/lib/python3.7/dist-packages (from ipykernel>=4.1->qtconsole>=4.7.2->orange3) (5.5.0)\n",
            "Requirement already satisfied: tornado>=4.0 in /usr/local/lib/python3.7/dist-packages (from ipykernel>=4.1->qtconsole>=4.7.2->orange3) (5.1.1)\n",
            "Requirement already satisfied: pickleshare in /usr/local/lib/python3.7/dist-packages (from ipython>=4.0.0->ipykernel>=4.1->qtconsole>=4.7.2->orange3) (0.7.5)\n",
            "Requirement already satisfied: simplegeneric>0.8 in /usr/local/lib/python3.7/dist-packages (from ipython>=4.0.0->ipykernel>=4.1->qtconsole>=4.7.2->orange3) (0.8.1)\n",
            "Requirement already satisfied: pexpect in /usr/local/lib/python3.7/dist-packages (from ipython>=4.0.0->ipykernel>=4.1->qtconsole>=4.7.2->orange3) (4.8.0)\n",
            "Requirement already satisfied: decorator in /usr/local/lib/python3.7/dist-packages (from ipython>=4.0.0->ipykernel>=4.1->qtconsole>=4.7.2->orange3) (4.4.2)\n",
            "Requirement already satisfied: prompt-toolkit<2.0.0,>=1.0.4 in /usr/local/lib/python3.7/dist-packages (from ipython>=4.0.0->ipykernel>=4.1->qtconsole>=4.7.2->orange3) (1.0.18)\n",
            "Requirement already satisfied: wcwidth in /usr/local/lib/python3.7/dist-packages (from prompt-toolkit<2.0.0,>=1.0.4->ipython>=4.0.0->ipykernel>=4.1->qtconsole>=4.7.2->orange3) (0.2.5)\n",
            "Requirement already satisfied: packaging in /usr/local/lib/python3.7/dist-packages (from qtpy>=2.0.1->qtconsole>=4.7.2->orange3) (21.3)\n",
            "Requirement already satisfied: threadpoolctl>=2.0.0 in /usr/local/lib/python3.7/dist-packages (from scikit-learn>=1.0.1->orange3) (3.1.0)\n",
            "Requirement already satisfied: msgpack>=0.5.2 in /usr/local/lib/python3.7/dist-packages (from cachecontrol[filecache]->orange-canvas-core<0.2a,>=0.1.24->orange3) (1.0.3)\n",
            "Collecting lockfile>=0.9\n",
            "  Downloading lockfile-0.12.2-py2.py3-none-any.whl (13 kB)\n",
            "Requirement already satisfied: zipp>=0.5 in /usr/local/lib/python3.7/dist-packages (from importlib-metadata->orange-canvas-core<0.2a,>=0.1.24->orange3) (3.7.0)\n",
            "Collecting SecretStorage>=3.2\n",
            "  Downloading SecretStorage-3.3.1-py3-none-any.whl (15 kB)\n",
            "Collecting jeepney>=0.4.2\n",
            "  Downloading jeepney-0.8.0-py3-none-any.whl (48 kB)\n",
            "\u001b[K     |████████████████████████████████| 48 kB 5.4 MB/s \n",
            "\u001b[?25hCollecting cryptography>=2.0\n",
            "  Downloading cryptography-36.0.2-cp36-abi3-manylinux_2_24_x86_64.whl (3.6 MB)\n",
            "\u001b[K     |████████████████████████████████| 3.6 MB 28.7 MB/s \n",
            "\u001b[?25hRequirement already satisfied: cffi>=1.12 in /usr/local/lib/python3.7/dist-packages (from cryptography>=2.0->SecretStorage>=3.2->keyring->orange3) (1.15.0)\n",
            "Requirement already satisfied: pycparser in /usr/local/lib/python3.7/dist-packages (from cffi>=1.12->cryptography>=2.0->SecretStorage>=3.2->keyring->orange3) (2.21)\n",
            "Requirement already satisfied: et-xmlfile in /usr/local/lib/python3.7/dist-packages (from openpyxl->orange3) (1.1.0)\n",
            "Requirement already satisfied: ptyprocess>=0.5 in /usr/local/lib/python3.7/dist-packages (from pexpect->ipython>=4.0.0->ipykernel>=4.1->qtconsole>=4.7.2->orange3) (0.7.0)\n",
            "Requirement already satisfied: urllib3!=1.25.0,!=1.25.1,<1.26,>=1.21.1 in /usr/local/lib/python3.7/dist-packages (from requests->orange3) (1.24.3)\n",
            "Building wheels for collected packages: serverfiles\n",
            "  Building wheel for serverfiles (setup.py) ... \u001b[?25l\u001b[?25hdone\n",
            "  Created wheel for serverfiles: filename=serverfiles-0.3.1-py3-none-any.whl size=6948 sha256=f4d3ed11bb3f6adaa42b59842cfd950ccc9c1961a00c5993023eb0d13f812fca\n",
            "  Stored in directory: /root/.cache/pip/wheels/f4/36/15/fcfe21874746d5cd17c18b1e5501fbf86544da90d4ab6afe17\n",
            "Successfully built serverfiles\n",
            "Installing collected packages: sniffio, pygments, lockfile, rfc3986, qasync, PyQt5-sip, PyQt5-Qt5, jeepney, h11, dictdiffer, cryptography, commonmark, AnyQt, anyio, SecretStorage, PyQtWebEngine-Qt5, pyqtgraph, PyQt5, orange-canvas-core, httpcore, xlsxwriter, serverfiles, PyQtWebEngine, orange-widget-base, openTSNE, keyrings.alt, keyring, httpx, baycomp, orange3\n",
            "  Attempting uninstall: pygments\n",
            "    Found existing installation: Pygments 2.6.1\n",
            "    Uninstalling Pygments-2.6.1:\n",
            "      Successfully uninstalled Pygments-2.6.1\n",
            "\u001b[31mERROR: pip's dependency resolver does not currently take into account all the packages that are installed. This behaviour is the source of the following dependency conflicts.\n",
            "datascience 0.10.6 requires folium==0.2.1, but you have folium 0.8.3 which is incompatible.\u001b[0m\n",
            "Successfully installed AnyQt-0.1.0 PyQt5-5.15.6 PyQt5-Qt5-5.15.2 PyQt5-sip-12.10.0 PyQtWebEngine-5.15.5 PyQtWebEngine-Qt5-5.15.2 SecretStorage-3.3.1 anyio-3.5.0 baycomp-1.0.2 commonmark-0.9.1 cryptography-36.0.2 dictdiffer-0.9.0 h11-0.12.0 httpcore-0.14.7 httpx-0.22.0 jeepney-0.8.0 keyring-23.5.0 keyrings.alt-4.1.0 lockfile-0.12.2 openTSNE-0.6.2 orange-canvas-core-0.1.26 orange-widget-base-4.16.1 orange3-3.32.0 pygments-2.11.2 pyqtgraph-0.12.3 qasync-0.23.0 rfc3986-1.5.0 serverfiles-0.3.1 sniffio-1.2.0 xlsxwriter-3.0.3\n"
          ]
        },
        {
          "output_type": "display_data",
          "data": {
            "application/vnd.colab-display-data+json": {
              "pip_warning": {
                "packages": [
                  "pygments"
                ]
              }
            }
          },
          "metadata": {}
        }
      ]
    },
    {
      "cell_type": "code",
      "source": [
        "from Orange.evaluation import compute_CD, graph_ranks\n",
        "from scipy.stats import friedmanchisquare, rankdata\n",
        "import pandas as pd\n",
        "import numpy as np"
      ],
      "metadata": {
        "id": "v71j4dskUfH3"
      },
      "execution_count": null,
      "outputs": []
    },
    {
      "cell_type": "code",
      "source": [
        "records = [\n",
        "  {\n",
        "      'cnn': 'cnn 1',\n",
        "      'accuracy': 85.66588777, #[85.66588777, 95.66588777, 95.66588777],\n",
        "      'f1_score': 0.98874541,\n",
        "  },\n",
        "  {\n",
        "      'cnn': 'cnn 2',\n",
        "      'accuracy': 95.66588777, #[95.66588777, 65.3265487, 78.9456123],\n",
        "      'f1_score': 0.788874541,\n",
        "  },\n",
        "  {\n",
        "      'cnn': 'cnn 3',\n",
        "      'accuracy': 90.11154312, #[90.11154, 83.47968574, 61.5847821],\n",
        "      'f1_score': 0.897568487,\n",
        "  },\n",
        "  {\n",
        "      'cnn': 'cnn 4',\n",
        "      'accuracy': 80.98765431, #[80.9876543, 91.254789, 92.5874154],\n",
        "      'f1_score': 0.789654845,\n",
        "  }\n",
        "]"
      ],
      "metadata": {
        "id": "hkks4wjZaSfW"
      },
      "execution_count": null,
      "outputs": []
    },
    {
      "cell_type": "code",
      "source": [
        "data = pd.DataFrame.from_records(records)\n",
        "data"
      ],
      "metadata": {
        "colab": {
          "base_uri": "https://localhost:8080/",
          "height": 175
        },
        "id": "TH_K9nF0dlP3",
        "outputId": "44913d60-093e-42fb-f3e5-973067d07821"
      },
      "execution_count": null,
      "outputs": [
        {
          "output_type": "execute_result",
          "data": {
            "text/plain": [
              "     cnn   accuracy  f1_score\n",
              "0  cnn 1  85.665888  0.988745\n",
              "1  cnn 2  95.665888  0.788875\n",
              "2  cnn 3  90.111543  0.897568\n",
              "3  cnn 4  80.987654  0.789655"
            ],
            "text/html": [
              "\n",
              "  <div id=\"df-cd4b9e5c-fbcf-4d07-8fd0-eb03b4caa591\">\n",
              "    <div class=\"colab-df-container\">\n",
              "      <div>\n",
              "<style scoped>\n",
              "    .dataframe tbody tr th:only-of-type {\n",
              "        vertical-align: middle;\n",
              "    }\n",
              "\n",
              "    .dataframe tbody tr th {\n",
              "        vertical-align: top;\n",
              "    }\n",
              "\n",
              "    .dataframe thead th {\n",
              "        text-align: right;\n",
              "    }\n",
              "</style>\n",
              "<table border=\"1\" class=\"dataframe\">\n",
              "  <thead>\n",
              "    <tr style=\"text-align: right;\">\n",
              "      <th></th>\n",
              "      <th>cnn</th>\n",
              "      <th>accuracy</th>\n",
              "      <th>f1_score</th>\n",
              "    </tr>\n",
              "  </thead>\n",
              "  <tbody>\n",
              "    <tr>\n",
              "      <th>0</th>\n",
              "      <td>cnn 1</td>\n",
              "      <td>85.665888</td>\n",
              "      <td>0.988745</td>\n",
              "    </tr>\n",
              "    <tr>\n",
              "      <th>1</th>\n",
              "      <td>cnn 2</td>\n",
              "      <td>95.665888</td>\n",
              "      <td>0.788875</td>\n",
              "    </tr>\n",
              "    <tr>\n",
              "      <th>2</th>\n",
              "      <td>cnn 3</td>\n",
              "      <td>90.111543</td>\n",
              "      <td>0.897568</td>\n",
              "    </tr>\n",
              "    <tr>\n",
              "      <th>3</th>\n",
              "      <td>cnn 4</td>\n",
              "      <td>80.987654</td>\n",
              "      <td>0.789655</td>\n",
              "    </tr>\n",
              "  </tbody>\n",
              "</table>\n",
              "</div>\n",
              "      <button class=\"colab-df-convert\" onclick=\"convertToInteractive('df-cd4b9e5c-fbcf-4d07-8fd0-eb03b4caa591')\"\n",
              "              title=\"Convert this dataframe to an interactive table.\"\n",
              "              style=\"display:none;\">\n",
              "        \n",
              "  <svg xmlns=\"http://www.w3.org/2000/svg\" height=\"24px\"viewBox=\"0 0 24 24\"\n",
              "       width=\"24px\">\n",
              "    <path d=\"M0 0h24v24H0V0z\" fill=\"none\"/>\n",
              "    <path d=\"M18.56 5.44l.94 2.06.94-2.06 2.06-.94-2.06-.94-.94-2.06-.94 2.06-2.06.94zm-11 1L8.5 8.5l.94-2.06 2.06-.94-2.06-.94L8.5 2.5l-.94 2.06-2.06.94zm10 10l.94 2.06.94-2.06 2.06-.94-2.06-.94-.94-2.06-.94 2.06-2.06.94z\"/><path d=\"M17.41 7.96l-1.37-1.37c-.4-.4-.92-.59-1.43-.59-.52 0-1.04.2-1.43.59L10.3 9.45l-7.72 7.72c-.78.78-.78 2.05 0 2.83L4 21.41c.39.39.9.59 1.41.59.51 0 1.02-.2 1.41-.59l7.78-7.78 2.81-2.81c.8-.78.8-2.07 0-2.86zM5.41 20L4 18.59l7.72-7.72 1.47 1.35L5.41 20z\"/>\n",
              "  </svg>\n",
              "      </button>\n",
              "      \n",
              "  <style>\n",
              "    .colab-df-container {\n",
              "      display:flex;\n",
              "      flex-wrap:wrap;\n",
              "      gap: 12px;\n",
              "    }\n",
              "\n",
              "    .colab-df-convert {\n",
              "      background-color: #E8F0FE;\n",
              "      border: none;\n",
              "      border-radius: 50%;\n",
              "      cursor: pointer;\n",
              "      display: none;\n",
              "      fill: #1967D2;\n",
              "      height: 32px;\n",
              "      padding: 0 0 0 0;\n",
              "      width: 32px;\n",
              "    }\n",
              "\n",
              "    .colab-df-convert:hover {\n",
              "      background-color: #E2EBFA;\n",
              "      box-shadow: 0px 1px 2px rgba(60, 64, 67, 0.3), 0px 1px 3px 1px rgba(60, 64, 67, 0.15);\n",
              "      fill: #174EA6;\n",
              "    }\n",
              "\n",
              "    [theme=dark] .colab-df-convert {\n",
              "      background-color: #3B4455;\n",
              "      fill: #D2E3FC;\n",
              "    }\n",
              "\n",
              "    [theme=dark] .colab-df-convert:hover {\n",
              "      background-color: #434B5C;\n",
              "      box-shadow: 0px 1px 3px 1px rgba(0, 0, 0, 0.15);\n",
              "      filter: drop-shadow(0px 1px 2px rgba(0, 0, 0, 0.3));\n",
              "      fill: #FFFFFF;\n",
              "    }\n",
              "  </style>\n",
              "\n",
              "      <script>\n",
              "        const buttonEl =\n",
              "          document.querySelector('#df-cd4b9e5c-fbcf-4d07-8fd0-eb03b4caa591 button.colab-df-convert');\n",
              "        buttonEl.style.display =\n",
              "          google.colab.kernel.accessAllowed ? 'block' : 'none';\n",
              "\n",
              "        async function convertToInteractive(key) {\n",
              "          const element = document.querySelector('#df-cd4b9e5c-fbcf-4d07-8fd0-eb03b4caa591');\n",
              "          const dataTable =\n",
              "            await google.colab.kernel.invokeFunction('convertToInteractive',\n",
              "                                                     [key], {});\n",
              "          if (!dataTable) return;\n",
              "\n",
              "          const docLinkHtml = 'Like what you see? Visit the ' +\n",
              "            '<a target=\"_blank\" href=https://colab.research.google.com/notebooks/data_table.ipynb>data table notebook</a>'\n",
              "            + ' to learn more about interactive tables.';\n",
              "          element.innerHTML = '';\n",
              "          dataTable['output_type'] = 'display_data';\n",
              "          await google.colab.output.renderOutput(dataTable, element);\n",
              "          const docLink = document.createElement('div');\n",
              "          docLink.innerHTML = docLinkHtml;\n",
              "          element.appendChild(docLink);\n",
              "        }\n",
              "      </script>\n",
              "    </div>\n",
              "  </div>\n",
              "  "
            ]
          },
          "metadata": {},
          "execution_count": 31
        }
      ]
    },
    {
      "cell_type": "code",
      "source": [
        "objectives = ['accuracy'] #, 'f1_score'\n",
        "alpha = 0.05\n",
        "dataset = 'hear_dataset'\n",
        " \n",
        "print('Null hypothesis:', 'The means of the results of two or more algorithms are the same.')\n",
        "\n",
        "cnns = data.cnn.unique()\n",
        "print('\\t', 'cnns:', cnns)"
      ],
      "metadata": {
        "colab": {
          "base_uri": "https://localhost:8080/"
        },
        "id": "_5VqoeCZGVVk",
        "outputId": "a14889be-9fa8-4d46-dbff-66fd54ca0051"
      },
      "execution_count": null,
      "outputs": [
        {
          "output_type": "stream",
          "name": "stdout",
          "text": [
            "Null hypothesis: The means of the results of two or more algorithms are the same.\n",
            "\t cnns: ['cnn 1' 'cnn 2' 'cnn 3' 'cnn 4']\n"
          ]
        }
      ]
    },
    {
      "cell_type": "code",
      "source": [
        "for objective in objectives:\n",
        "  \n",
        "  print('Dataset, objective:', dataset, objective)\n",
        "  \n",
        "  df1 = pd.DataFrame({cnn: list(data[data.cnn == cnn][objective]) for cnn in cnns})\n",
        "  \n",
        "  values = df1.values #[90.11154, 83.47968574, 61.5847821]\n",
        "  names = df1.columns\n",
        "  print('\\t', 'values:', values)\n",
        "  print('\\t', '*values:', *values)\n",
        "  print('\\t', 'names:', list(names))\n",
        "\n",
        "  friedman = friedmanchisquare(*values)\n",
        "  ranks = np.array([rankdata(-p) for p in values])\n",
        "  average_ranks = np.mean(ranks, axis = 0)\n",
        "  \n",
        "  cd = compute_CD(average_ranks, n=len(df1), alpha=str(alpha), test='nemenyi')\n",
        "  \n",
        "  print('\\t', 'null hypothesis:', 'rejected' if friedman.pvalue < alpha else 'accepted')\n",
        "  print('\\t', 'p-value:', friedman.pvalue)\n",
        "  print('\\t', 'ranking:', average_ranks)\n",
        "  print('\\t', 'names:', list(names))\n",
        "  print('\\t', 'cd:', cd)\n",
        "  \n",
        "  graph_ranks(average_ranks, names=names, cd=cd)\n",
        "  # title = f'Friedman-Nemenyi (CD = {round(cd, 3)})'\n",
        "  title = f'Dataset: {dataset}, Metric: {objective}, CD: {round(cd, 3)}'\n",
        "  plt.title(title)\n",
        "  plt.suptitle('p-value: {:.2e}'.format(friedman.pvalue))\n",
        "  plt.savefig(f'/content/cd_{dataset}_{objective}.pdf', bbox_inches='tight')\n",
        "  plt.show()\n"
      ],
      "metadata": {
        "colab": {
          "base_uri": "https://localhost:8080/",
          "height": 427
        },
        "id": "jIEVhUmIUfYK",
        "outputId": "2fe63099-eb96-4d4f-a121-00c1e85781a1"
      },
      "execution_count": null,
      "outputs": [
        {
          "output_type": "stream",
          "name": "stdout",
          "text": [
            "Dataset, objective: hear_dataset accuracy\n",
            "\t values: [[85.66588777 95.66588777 90.11154312 80.98765431]]\n",
            "\t *values: [85.66588777 95.66588777 90.11154312 80.98765431]\n",
            "\t names: ['cnn 1', 'cnn 2', 'cnn 3', 'cnn 4']\n"
          ]
        },
        {
          "output_type": "error",
          "ename": "ValueError",
          "evalue": "ignored",
          "traceback": [
            "\u001b[0;31m---------------------------------------------------------------------------\u001b[0m",
            "\u001b[0;31mValueError\u001b[0m                                Traceback (most recent call last)",
            "\u001b[0;32m<ipython-input-34-0dc3574d828d>\u001b[0m in \u001b[0;36m<module>\u001b[0;34m()\u001b[0m\n\u001b[1;32m     11\u001b[0m   \u001b[0mprint\u001b[0m\u001b[0;34m(\u001b[0m\u001b[0;34m'\\t'\u001b[0m\u001b[0;34m,\u001b[0m \u001b[0;34m'names:'\u001b[0m\u001b[0;34m,\u001b[0m \u001b[0mlist\u001b[0m\u001b[0;34m(\u001b[0m\u001b[0mnames\u001b[0m\u001b[0;34m)\u001b[0m\u001b[0;34m)\u001b[0m\u001b[0;34m\u001b[0m\u001b[0;34m\u001b[0m\u001b[0m\n\u001b[1;32m     12\u001b[0m \u001b[0;34m\u001b[0m\u001b[0m\n\u001b[0;32m---> 13\u001b[0;31m   \u001b[0mfriedman\u001b[0m \u001b[0;34m=\u001b[0m \u001b[0mfriedmanchisquare\u001b[0m\u001b[0;34m(\u001b[0m\u001b[0;34m*\u001b[0m\u001b[0mvalues\u001b[0m\u001b[0;34m)\u001b[0m\u001b[0;34m\u001b[0m\u001b[0;34m\u001b[0m\u001b[0m\n\u001b[0m\u001b[1;32m     14\u001b[0m   \u001b[0mranks\u001b[0m \u001b[0;34m=\u001b[0m \u001b[0mnp\u001b[0m\u001b[0;34m.\u001b[0m\u001b[0marray\u001b[0m\u001b[0;34m(\u001b[0m\u001b[0;34m[\u001b[0m\u001b[0mrankdata\u001b[0m\u001b[0;34m(\u001b[0m\u001b[0;34m-\u001b[0m\u001b[0mp\u001b[0m\u001b[0;34m)\u001b[0m \u001b[0;32mfor\u001b[0m \u001b[0mp\u001b[0m \u001b[0;32min\u001b[0m \u001b[0mvalues\u001b[0m\u001b[0;34m]\u001b[0m\u001b[0;34m)\u001b[0m\u001b[0;34m\u001b[0m\u001b[0;34m\u001b[0m\u001b[0m\n\u001b[1;32m     15\u001b[0m   \u001b[0maverage_ranks\u001b[0m \u001b[0;34m=\u001b[0m \u001b[0mnp\u001b[0m\u001b[0;34m.\u001b[0m\u001b[0mmean\u001b[0m\u001b[0;34m(\u001b[0m\u001b[0mranks\u001b[0m\u001b[0;34m,\u001b[0m \u001b[0maxis\u001b[0m \u001b[0;34m=\u001b[0m \u001b[0;36m0\u001b[0m\u001b[0;34m)\u001b[0m\u001b[0;34m\u001b[0m\u001b[0;34m\u001b[0m\u001b[0m\n",
            "\u001b[0;32m/usr/local/lib/python3.7/dist-packages/scipy/stats/stats.py\u001b[0m in \u001b[0;36mfriedmanchisquare\u001b[0;34m(*args)\u001b[0m\n\u001b[1;32m   6644\u001b[0m     \u001b[0mk\u001b[0m \u001b[0;34m=\u001b[0m \u001b[0mlen\u001b[0m\u001b[0;34m(\u001b[0m\u001b[0margs\u001b[0m\u001b[0;34m)\u001b[0m\u001b[0;34m\u001b[0m\u001b[0;34m\u001b[0m\u001b[0m\n\u001b[1;32m   6645\u001b[0m     \u001b[0;32mif\u001b[0m \u001b[0mk\u001b[0m \u001b[0;34m<\u001b[0m \u001b[0;36m3\u001b[0m\u001b[0;34m:\u001b[0m\u001b[0;34m\u001b[0m\u001b[0;34m\u001b[0m\u001b[0m\n\u001b[0;32m-> 6646\u001b[0;31m         \u001b[0;32mraise\u001b[0m \u001b[0mValueError\u001b[0m\u001b[0;34m(\u001b[0m\u001b[0;34m'Less than 3 levels.  Friedman test not appropriate.'\u001b[0m\u001b[0;34m)\u001b[0m\u001b[0;34m\u001b[0m\u001b[0;34m\u001b[0m\u001b[0m\n\u001b[0m\u001b[1;32m   6647\u001b[0m \u001b[0;34m\u001b[0m\u001b[0m\n\u001b[1;32m   6648\u001b[0m     \u001b[0mn\u001b[0m \u001b[0;34m=\u001b[0m \u001b[0mlen\u001b[0m\u001b[0;34m(\u001b[0m\u001b[0margs\u001b[0m\u001b[0;34m[\u001b[0m\u001b[0;36m0\u001b[0m\u001b[0;34m]\u001b[0m\u001b[0;34m)\u001b[0m\u001b[0;34m\u001b[0m\u001b[0;34m\u001b[0m\u001b[0m\n",
            "\u001b[0;31mValueError\u001b[0m: Less than 3 levels.  Friedman test not appropriate."
          ]
        }
      ]
    },
    {
      "cell_type": "code",
      "source": [
        "a = np.array([[1, 2, 3], [2, 3, 4] ,[4, 5, 6]])\n",
        "print('\\t', 'a:', a)\n",
        "\n",
        "friedmanchisquare(*a)"
      ],
      "metadata": {
        "colab": {
          "base_uri": "https://localhost:8080/"
        },
        "id": "vCGpdK0eH5K7",
        "outputId": "6ed24105-b991-46cf-bbbd-6f7b01c09007"
      },
      "execution_count": null,
      "outputs": [
        {
          "output_type": "stream",
          "name": "stdout",
          "text": [
            "\t a: [[1 2 3]\n",
            " [2 3 4]\n",
            " [4 5 6]]\n"
          ]
        },
        {
          "output_type": "execute_result",
          "data": {
            "text/plain": [
              "FriedmanchisquareResult(statistic=6.0, pvalue=0.04978706836786395)"
            ]
          },
          "metadata": {},
          "execution_count": 27
        }
      ]
    },
    {
      "cell_type": "code",
      "source": [
        "performances = pd.read_csv('/content/sample_data/dados.csv')\n",
        "performances"
      ],
      "metadata": {
        "colab": {
          "base_uri": "https://localhost:8080/",
          "height": 332
        },
        "id": "BBrLYHJQMg-p",
        "outputId": "b9619770-f111-4eed-f1a6-9129bdbbc939"
      },
      "execution_count": null,
      "outputs": [
        {
          "output_type": "execute_result",
          "data": {
            "text/plain": [
              "                      cnn  accuracy  Unnamed: 2  f1_score  Unnamed: 4  \\\n",
              "0  Assunção et al. (2018)   995.150       1.040   995.203       1.026   \n",
              "1             DenseNet169   995.050       1.075   994.951       1.135   \n",
              "2     Diniz et al. (2018)   985.725       1.626   985.516       1.745   \n",
              "3          EfficientNetB1   992.975       1.997   992.764       2.136   \n",
              "4             InceptionV3   995.275     980.000   995.146     884.000   \n",
              "5      Lima et al. (2019)   988.075       2.092   987.897       2.221   \n",
              "6              ResNet50V2   994.675     693.000   994.519     828.000   \n",
              "7    Silva et al. (2021a)   993.750     925.000   993.558       1.029   \n",
              "8    Silva et al. (2021b)   995.025     850.000   995.035     858.000   \n",
              "\n",
              "          size  Unnamed: 6  num_layers  Unnamed: 8  num_params  Unnamed: 10  \\\n",
              "0   43.659.935     219.000        18.0         0.0  11427338.0          0.0   \n",
              "1  146.397.614      21.000       598.0         0.0  12653258.0          0.0   \n",
              "2      324.272       0.000         6.0         0.0     25258.0          0.0   \n",
              "3   76.497.769       9.000       343.0         0.0   6587469.0          0.0   \n",
              "4  250.841.461       2.557       314.0         0.0  21822698.0          0.0   \n",
              "5    2.013.166      58.000         7.0         0.0    172042.0          0.0   \n",
              "6  270.393.280       7.000       193.0         0.0  23579018.0          0.0   \n",
              "7   41.098.621      16.000        19.0         0.0   3582506.0          0.0   \n",
              "8   30.486.885      24.000        26.0         0.0   2651690.0          0.0   \n",
              "\n",
              "      time  Unnamed: 12  \n",
              "0  1261.45   41.231.663  \n",
              "1  4823.65   65.555.340  \n",
              "2  1050.35   46.558.707  \n",
              "3  3204.80  172.296.745  \n",
              "4  3170.75  144.197.553  \n",
              "5  1038.80   41.331.268  \n",
              "6  2412.80  130.293.838  \n",
              "7  1194.75   50.831.895  \n",
              "8  1281.45   36.469.851  "
            ],
            "text/html": [
              "\n",
              "  <div id=\"df-2660f00c-d3ce-4569-91a6-30a63829997a\">\n",
              "    <div class=\"colab-df-container\">\n",
              "      <div>\n",
              "<style scoped>\n",
              "    .dataframe tbody tr th:only-of-type {\n",
              "        vertical-align: middle;\n",
              "    }\n",
              "\n",
              "    .dataframe tbody tr th {\n",
              "        vertical-align: top;\n",
              "    }\n",
              "\n",
              "    .dataframe thead th {\n",
              "        text-align: right;\n",
              "    }\n",
              "</style>\n",
              "<table border=\"1\" class=\"dataframe\">\n",
              "  <thead>\n",
              "    <tr style=\"text-align: right;\">\n",
              "      <th></th>\n",
              "      <th>cnn</th>\n",
              "      <th>accuracy</th>\n",
              "      <th>Unnamed: 2</th>\n",
              "      <th>f1_score</th>\n",
              "      <th>Unnamed: 4</th>\n",
              "      <th>size</th>\n",
              "      <th>Unnamed: 6</th>\n",
              "      <th>num_layers</th>\n",
              "      <th>Unnamed: 8</th>\n",
              "      <th>num_params</th>\n",
              "      <th>Unnamed: 10</th>\n",
              "      <th>time</th>\n",
              "      <th>Unnamed: 12</th>\n",
              "    </tr>\n",
              "  </thead>\n",
              "  <tbody>\n",
              "    <tr>\n",
              "      <th>0</th>\n",
              "      <td>Assunção et al. (2018)</td>\n",
              "      <td>995.150</td>\n",
              "      <td>1.040</td>\n",
              "      <td>995.203</td>\n",
              "      <td>1.026</td>\n",
              "      <td>43.659.935</td>\n",
              "      <td>219.000</td>\n",
              "      <td>18.0</td>\n",
              "      <td>0.0</td>\n",
              "      <td>11427338.0</td>\n",
              "      <td>0.0</td>\n",
              "      <td>1261.45</td>\n",
              "      <td>41.231.663</td>\n",
              "    </tr>\n",
              "    <tr>\n",
              "      <th>1</th>\n",
              "      <td>DenseNet169</td>\n",
              "      <td>995.050</td>\n",
              "      <td>1.075</td>\n",
              "      <td>994.951</td>\n",
              "      <td>1.135</td>\n",
              "      <td>146.397.614</td>\n",
              "      <td>21.000</td>\n",
              "      <td>598.0</td>\n",
              "      <td>0.0</td>\n",
              "      <td>12653258.0</td>\n",
              "      <td>0.0</td>\n",
              "      <td>4823.65</td>\n",
              "      <td>65.555.340</td>\n",
              "    </tr>\n",
              "    <tr>\n",
              "      <th>2</th>\n",
              "      <td>Diniz et al. (2018)</td>\n",
              "      <td>985.725</td>\n",
              "      <td>1.626</td>\n",
              "      <td>985.516</td>\n",
              "      <td>1.745</td>\n",
              "      <td>324.272</td>\n",
              "      <td>0.000</td>\n",
              "      <td>6.0</td>\n",
              "      <td>0.0</td>\n",
              "      <td>25258.0</td>\n",
              "      <td>0.0</td>\n",
              "      <td>1050.35</td>\n",
              "      <td>46.558.707</td>\n",
              "    </tr>\n",
              "    <tr>\n",
              "      <th>3</th>\n",
              "      <td>EfficientNetB1</td>\n",
              "      <td>992.975</td>\n",
              "      <td>1.997</td>\n",
              "      <td>992.764</td>\n",
              "      <td>2.136</td>\n",
              "      <td>76.497.769</td>\n",
              "      <td>9.000</td>\n",
              "      <td>343.0</td>\n",
              "      <td>0.0</td>\n",
              "      <td>6587469.0</td>\n",
              "      <td>0.0</td>\n",
              "      <td>3204.80</td>\n",
              "      <td>172.296.745</td>\n",
              "    </tr>\n",
              "    <tr>\n",
              "      <th>4</th>\n",
              "      <td>InceptionV3</td>\n",
              "      <td>995.275</td>\n",
              "      <td>980.000</td>\n",
              "      <td>995.146</td>\n",
              "      <td>884.000</td>\n",
              "      <td>250.841.461</td>\n",
              "      <td>2.557</td>\n",
              "      <td>314.0</td>\n",
              "      <td>0.0</td>\n",
              "      <td>21822698.0</td>\n",
              "      <td>0.0</td>\n",
              "      <td>3170.75</td>\n",
              "      <td>144.197.553</td>\n",
              "    </tr>\n",
              "    <tr>\n",
              "      <th>5</th>\n",
              "      <td>Lima et al. (2019)</td>\n",
              "      <td>988.075</td>\n",
              "      <td>2.092</td>\n",
              "      <td>987.897</td>\n",
              "      <td>2.221</td>\n",
              "      <td>2.013.166</td>\n",
              "      <td>58.000</td>\n",
              "      <td>7.0</td>\n",
              "      <td>0.0</td>\n",
              "      <td>172042.0</td>\n",
              "      <td>0.0</td>\n",
              "      <td>1038.80</td>\n",
              "      <td>41.331.268</td>\n",
              "    </tr>\n",
              "    <tr>\n",
              "      <th>6</th>\n",
              "      <td>ResNet50V2</td>\n",
              "      <td>994.675</td>\n",
              "      <td>693.000</td>\n",
              "      <td>994.519</td>\n",
              "      <td>828.000</td>\n",
              "      <td>270.393.280</td>\n",
              "      <td>7.000</td>\n",
              "      <td>193.0</td>\n",
              "      <td>0.0</td>\n",
              "      <td>23579018.0</td>\n",
              "      <td>0.0</td>\n",
              "      <td>2412.80</td>\n",
              "      <td>130.293.838</td>\n",
              "    </tr>\n",
              "    <tr>\n",
              "      <th>7</th>\n",
              "      <td>Silva et al. (2021a)</td>\n",
              "      <td>993.750</td>\n",
              "      <td>925.000</td>\n",
              "      <td>993.558</td>\n",
              "      <td>1.029</td>\n",
              "      <td>41.098.621</td>\n",
              "      <td>16.000</td>\n",
              "      <td>19.0</td>\n",
              "      <td>0.0</td>\n",
              "      <td>3582506.0</td>\n",
              "      <td>0.0</td>\n",
              "      <td>1194.75</td>\n",
              "      <td>50.831.895</td>\n",
              "    </tr>\n",
              "    <tr>\n",
              "      <th>8</th>\n",
              "      <td>Silva et al. (2021b)</td>\n",
              "      <td>995.025</td>\n",
              "      <td>850.000</td>\n",
              "      <td>995.035</td>\n",
              "      <td>858.000</td>\n",
              "      <td>30.486.885</td>\n",
              "      <td>24.000</td>\n",
              "      <td>26.0</td>\n",
              "      <td>0.0</td>\n",
              "      <td>2651690.0</td>\n",
              "      <td>0.0</td>\n",
              "      <td>1281.45</td>\n",
              "      <td>36.469.851</td>\n",
              "    </tr>\n",
              "  </tbody>\n",
              "</table>\n",
              "</div>\n",
              "      <button class=\"colab-df-convert\" onclick=\"convertToInteractive('df-2660f00c-d3ce-4569-91a6-30a63829997a')\"\n",
              "              title=\"Convert this dataframe to an interactive table.\"\n",
              "              style=\"display:none;\">\n",
              "        \n",
              "  <svg xmlns=\"http://www.w3.org/2000/svg\" height=\"24px\"viewBox=\"0 0 24 24\"\n",
              "       width=\"24px\">\n",
              "    <path d=\"M0 0h24v24H0V0z\" fill=\"none\"/>\n",
              "    <path d=\"M18.56 5.44l.94 2.06.94-2.06 2.06-.94-2.06-.94-.94-2.06-.94 2.06-2.06.94zm-11 1L8.5 8.5l.94-2.06 2.06-.94-2.06-.94L8.5 2.5l-.94 2.06-2.06.94zm10 10l.94 2.06.94-2.06 2.06-.94-2.06-.94-.94-2.06-.94 2.06-2.06.94z\"/><path d=\"M17.41 7.96l-1.37-1.37c-.4-.4-.92-.59-1.43-.59-.52 0-1.04.2-1.43.59L10.3 9.45l-7.72 7.72c-.78.78-.78 2.05 0 2.83L4 21.41c.39.39.9.59 1.41.59.51 0 1.02-.2 1.41-.59l7.78-7.78 2.81-2.81c.8-.78.8-2.07 0-2.86zM5.41 20L4 18.59l7.72-7.72 1.47 1.35L5.41 20z\"/>\n",
              "  </svg>\n",
              "      </button>\n",
              "      \n",
              "  <style>\n",
              "    .colab-df-container {\n",
              "      display:flex;\n",
              "      flex-wrap:wrap;\n",
              "      gap: 12px;\n",
              "    }\n",
              "\n",
              "    .colab-df-convert {\n",
              "      background-color: #E8F0FE;\n",
              "      border: none;\n",
              "      border-radius: 50%;\n",
              "      cursor: pointer;\n",
              "      display: none;\n",
              "      fill: #1967D2;\n",
              "      height: 32px;\n",
              "      padding: 0 0 0 0;\n",
              "      width: 32px;\n",
              "    }\n",
              "\n",
              "    .colab-df-convert:hover {\n",
              "      background-color: #E2EBFA;\n",
              "      box-shadow: 0px 1px 2px rgba(60, 64, 67, 0.3), 0px 1px 3px 1px rgba(60, 64, 67, 0.15);\n",
              "      fill: #174EA6;\n",
              "    }\n",
              "\n",
              "    [theme=dark] .colab-df-convert {\n",
              "      background-color: #3B4455;\n",
              "      fill: #D2E3FC;\n",
              "    }\n",
              "\n",
              "    [theme=dark] .colab-df-convert:hover {\n",
              "      background-color: #434B5C;\n",
              "      box-shadow: 0px 1px 3px 1px rgba(0, 0, 0, 0.15);\n",
              "      filter: drop-shadow(0px 1px 2px rgba(0, 0, 0, 0.3));\n",
              "      fill: #FFFFFF;\n",
              "    }\n",
              "  </style>\n",
              "\n",
              "      <script>\n",
              "        const buttonEl =\n",
              "          document.querySelector('#df-2660f00c-d3ce-4569-91a6-30a63829997a button.colab-df-convert');\n",
              "        buttonEl.style.display =\n",
              "          google.colab.kernel.accessAllowed ? 'block' : 'none';\n",
              "\n",
              "        async function convertToInteractive(key) {\n",
              "          const element = document.querySelector('#df-2660f00c-d3ce-4569-91a6-30a63829997a');\n",
              "          const dataTable =\n",
              "            await google.colab.kernel.invokeFunction('convertToInteractive',\n",
              "                                                     [key], {});\n",
              "          if (!dataTable) return;\n",
              "\n",
              "          const docLinkHtml = 'Like what you see? Visit the ' +\n",
              "            '<a target=\"_blank\" href=https://colab.research.google.com/notebooks/data_table.ipynb>data table notebook</a>'\n",
              "            + ' to learn more about interactive tables.';\n",
              "          element.innerHTML = '';\n",
              "          dataTable['output_type'] = 'display_data';\n",
              "          await google.colab.output.renderOutput(dataTable, element);\n",
              "          const docLink = document.createElement('div');\n",
              "          docLink.innerHTML = docLinkHtml;\n",
              "          element.appendChild(docLink);\n",
              "        }\n",
              "      </script>\n",
              "    </div>\n",
              "  </div>\n",
              "  "
            ]
          },
          "metadata": {},
          "execution_count": 41
        }
      ]
    },
    {
      "cell_type": "code",
      "source": [
        "df = pd.DataFrame.from_records(performances)\n",
        "df"
      ],
      "metadata": {
        "colab": {
          "base_uri": "https://localhost:8080/",
          "height": 332
        },
        "id": "SAdtp6LVMwmy",
        "outputId": "71bbd5dd-6684-4005-9d02-c77b0dbceecf"
      },
      "execution_count": null,
      "outputs": [
        {
          "output_type": "execute_result",
          "data": {
            "text/plain": [
              "                      cnn  accuracy  Unnamed: 2  f1_score  Unnamed: 4  \\\n",
              "0  Assunção et al. (2018)   995.150       1.040   995.203       1.026   \n",
              "1             DenseNet169   995.050       1.075   994.951       1.135   \n",
              "2     Diniz et al. (2018)   985.725       1.626   985.516       1.745   \n",
              "3          EfficientNetB1   992.975       1.997   992.764       2.136   \n",
              "4             InceptionV3   995.275     980.000   995.146     884.000   \n",
              "5      Lima et al. (2019)   988.075       2.092   987.897       2.221   \n",
              "6              ResNet50V2   994.675     693.000   994.519     828.000   \n",
              "7    Silva et al. (2021a)   993.750     925.000   993.558       1.029   \n",
              "8    Silva et al. (2021b)   995.025     850.000   995.035     858.000   \n",
              "\n",
              "          size  Unnamed: 6  num_layers  Unnamed: 8  num_params  Unnamed: 10  \\\n",
              "0   43.659.935     219.000        18.0         0.0  11427338.0          0.0   \n",
              "1  146.397.614      21.000       598.0         0.0  12653258.0          0.0   \n",
              "2      324.272       0.000         6.0         0.0     25258.0          0.0   \n",
              "3   76.497.769       9.000       343.0         0.0   6587469.0          0.0   \n",
              "4  250.841.461       2.557       314.0         0.0  21822698.0          0.0   \n",
              "5    2.013.166      58.000         7.0         0.0    172042.0          0.0   \n",
              "6  270.393.280       7.000       193.0         0.0  23579018.0          0.0   \n",
              "7   41.098.621      16.000        19.0         0.0   3582506.0          0.0   \n",
              "8   30.486.885      24.000        26.0         0.0   2651690.0          0.0   \n",
              "\n",
              "      time  Unnamed: 12  \n",
              "0  1261.45   41.231.663  \n",
              "1  4823.65   65.555.340  \n",
              "2  1050.35   46.558.707  \n",
              "3  3204.80  172.296.745  \n",
              "4  3170.75  144.197.553  \n",
              "5  1038.80   41.331.268  \n",
              "6  2412.80  130.293.838  \n",
              "7  1194.75   50.831.895  \n",
              "8  1281.45   36.469.851  "
            ],
            "text/html": [
              "\n",
              "  <div id=\"df-61357192-a670-4d3c-a25e-3c8fcc97cd44\">\n",
              "    <div class=\"colab-df-container\">\n",
              "      <div>\n",
              "<style scoped>\n",
              "    .dataframe tbody tr th:only-of-type {\n",
              "        vertical-align: middle;\n",
              "    }\n",
              "\n",
              "    .dataframe tbody tr th {\n",
              "        vertical-align: top;\n",
              "    }\n",
              "\n",
              "    .dataframe thead th {\n",
              "        text-align: right;\n",
              "    }\n",
              "</style>\n",
              "<table border=\"1\" class=\"dataframe\">\n",
              "  <thead>\n",
              "    <tr style=\"text-align: right;\">\n",
              "      <th></th>\n",
              "      <th>cnn</th>\n",
              "      <th>accuracy</th>\n",
              "      <th>Unnamed: 2</th>\n",
              "      <th>f1_score</th>\n",
              "      <th>Unnamed: 4</th>\n",
              "      <th>size</th>\n",
              "      <th>Unnamed: 6</th>\n",
              "      <th>num_layers</th>\n",
              "      <th>Unnamed: 8</th>\n",
              "      <th>num_params</th>\n",
              "      <th>Unnamed: 10</th>\n",
              "      <th>time</th>\n",
              "      <th>Unnamed: 12</th>\n",
              "    </tr>\n",
              "  </thead>\n",
              "  <tbody>\n",
              "    <tr>\n",
              "      <th>0</th>\n",
              "      <td>Assunção et al. (2018)</td>\n",
              "      <td>995.150</td>\n",
              "      <td>1.040</td>\n",
              "      <td>995.203</td>\n",
              "      <td>1.026</td>\n",
              "      <td>43.659.935</td>\n",
              "      <td>219.000</td>\n",
              "      <td>18.0</td>\n",
              "      <td>0.0</td>\n",
              "      <td>11427338.0</td>\n",
              "      <td>0.0</td>\n",
              "      <td>1261.45</td>\n",
              "      <td>41.231.663</td>\n",
              "    </tr>\n",
              "    <tr>\n",
              "      <th>1</th>\n",
              "      <td>DenseNet169</td>\n",
              "      <td>995.050</td>\n",
              "      <td>1.075</td>\n",
              "      <td>994.951</td>\n",
              "      <td>1.135</td>\n",
              "      <td>146.397.614</td>\n",
              "      <td>21.000</td>\n",
              "      <td>598.0</td>\n",
              "      <td>0.0</td>\n",
              "      <td>12653258.0</td>\n",
              "      <td>0.0</td>\n",
              "      <td>4823.65</td>\n",
              "      <td>65.555.340</td>\n",
              "    </tr>\n",
              "    <tr>\n",
              "      <th>2</th>\n",
              "      <td>Diniz et al. (2018)</td>\n",
              "      <td>985.725</td>\n",
              "      <td>1.626</td>\n",
              "      <td>985.516</td>\n",
              "      <td>1.745</td>\n",
              "      <td>324.272</td>\n",
              "      <td>0.000</td>\n",
              "      <td>6.0</td>\n",
              "      <td>0.0</td>\n",
              "      <td>25258.0</td>\n",
              "      <td>0.0</td>\n",
              "      <td>1050.35</td>\n",
              "      <td>46.558.707</td>\n",
              "    </tr>\n",
              "    <tr>\n",
              "      <th>3</th>\n",
              "      <td>EfficientNetB1</td>\n",
              "      <td>992.975</td>\n",
              "      <td>1.997</td>\n",
              "      <td>992.764</td>\n",
              "      <td>2.136</td>\n",
              "      <td>76.497.769</td>\n",
              "      <td>9.000</td>\n",
              "      <td>343.0</td>\n",
              "      <td>0.0</td>\n",
              "      <td>6587469.0</td>\n",
              "      <td>0.0</td>\n",
              "      <td>3204.80</td>\n",
              "      <td>172.296.745</td>\n",
              "    </tr>\n",
              "    <tr>\n",
              "      <th>4</th>\n",
              "      <td>InceptionV3</td>\n",
              "      <td>995.275</td>\n",
              "      <td>980.000</td>\n",
              "      <td>995.146</td>\n",
              "      <td>884.000</td>\n",
              "      <td>250.841.461</td>\n",
              "      <td>2.557</td>\n",
              "      <td>314.0</td>\n",
              "      <td>0.0</td>\n",
              "      <td>21822698.0</td>\n",
              "      <td>0.0</td>\n",
              "      <td>3170.75</td>\n",
              "      <td>144.197.553</td>\n",
              "    </tr>\n",
              "    <tr>\n",
              "      <th>5</th>\n",
              "      <td>Lima et al. (2019)</td>\n",
              "      <td>988.075</td>\n",
              "      <td>2.092</td>\n",
              "      <td>987.897</td>\n",
              "      <td>2.221</td>\n",
              "      <td>2.013.166</td>\n",
              "      <td>58.000</td>\n",
              "      <td>7.0</td>\n",
              "      <td>0.0</td>\n",
              "      <td>172042.0</td>\n",
              "      <td>0.0</td>\n",
              "      <td>1038.80</td>\n",
              "      <td>41.331.268</td>\n",
              "    </tr>\n",
              "    <tr>\n",
              "      <th>6</th>\n",
              "      <td>ResNet50V2</td>\n",
              "      <td>994.675</td>\n",
              "      <td>693.000</td>\n",
              "      <td>994.519</td>\n",
              "      <td>828.000</td>\n",
              "      <td>270.393.280</td>\n",
              "      <td>7.000</td>\n",
              "      <td>193.0</td>\n",
              "      <td>0.0</td>\n",
              "      <td>23579018.0</td>\n",
              "      <td>0.0</td>\n",
              "      <td>2412.80</td>\n",
              "      <td>130.293.838</td>\n",
              "    </tr>\n",
              "    <tr>\n",
              "      <th>7</th>\n",
              "      <td>Silva et al. (2021a)</td>\n",
              "      <td>993.750</td>\n",
              "      <td>925.000</td>\n",
              "      <td>993.558</td>\n",
              "      <td>1.029</td>\n",
              "      <td>41.098.621</td>\n",
              "      <td>16.000</td>\n",
              "      <td>19.0</td>\n",
              "      <td>0.0</td>\n",
              "      <td>3582506.0</td>\n",
              "      <td>0.0</td>\n",
              "      <td>1194.75</td>\n",
              "      <td>50.831.895</td>\n",
              "    </tr>\n",
              "    <tr>\n",
              "      <th>8</th>\n",
              "      <td>Silva et al. (2021b)</td>\n",
              "      <td>995.025</td>\n",
              "      <td>850.000</td>\n",
              "      <td>995.035</td>\n",
              "      <td>858.000</td>\n",
              "      <td>30.486.885</td>\n",
              "      <td>24.000</td>\n",
              "      <td>26.0</td>\n",
              "      <td>0.0</td>\n",
              "      <td>2651690.0</td>\n",
              "      <td>0.0</td>\n",
              "      <td>1281.45</td>\n",
              "      <td>36.469.851</td>\n",
              "    </tr>\n",
              "  </tbody>\n",
              "</table>\n",
              "</div>\n",
              "      <button class=\"colab-df-convert\" onclick=\"convertToInteractive('df-61357192-a670-4d3c-a25e-3c8fcc97cd44')\"\n",
              "              title=\"Convert this dataframe to an interactive table.\"\n",
              "              style=\"display:none;\">\n",
              "        \n",
              "  <svg xmlns=\"http://www.w3.org/2000/svg\" height=\"24px\"viewBox=\"0 0 24 24\"\n",
              "       width=\"24px\">\n",
              "    <path d=\"M0 0h24v24H0V0z\" fill=\"none\"/>\n",
              "    <path d=\"M18.56 5.44l.94 2.06.94-2.06 2.06-.94-2.06-.94-.94-2.06-.94 2.06-2.06.94zm-11 1L8.5 8.5l.94-2.06 2.06-.94-2.06-.94L8.5 2.5l-.94 2.06-2.06.94zm10 10l.94 2.06.94-2.06 2.06-.94-2.06-.94-.94-2.06-.94 2.06-2.06.94z\"/><path d=\"M17.41 7.96l-1.37-1.37c-.4-.4-.92-.59-1.43-.59-.52 0-1.04.2-1.43.59L10.3 9.45l-7.72 7.72c-.78.78-.78 2.05 0 2.83L4 21.41c.39.39.9.59 1.41.59.51 0 1.02-.2 1.41-.59l7.78-7.78 2.81-2.81c.8-.78.8-2.07 0-2.86zM5.41 20L4 18.59l7.72-7.72 1.47 1.35L5.41 20z\"/>\n",
              "  </svg>\n",
              "      </button>\n",
              "      \n",
              "  <style>\n",
              "    .colab-df-container {\n",
              "      display:flex;\n",
              "      flex-wrap:wrap;\n",
              "      gap: 12px;\n",
              "    }\n",
              "\n",
              "    .colab-df-convert {\n",
              "      background-color: #E8F0FE;\n",
              "      border: none;\n",
              "      border-radius: 50%;\n",
              "      cursor: pointer;\n",
              "      display: none;\n",
              "      fill: #1967D2;\n",
              "      height: 32px;\n",
              "      padding: 0 0 0 0;\n",
              "      width: 32px;\n",
              "    }\n",
              "\n",
              "    .colab-df-convert:hover {\n",
              "      background-color: #E2EBFA;\n",
              "      box-shadow: 0px 1px 2px rgba(60, 64, 67, 0.3), 0px 1px 3px 1px rgba(60, 64, 67, 0.15);\n",
              "      fill: #174EA6;\n",
              "    }\n",
              "\n",
              "    [theme=dark] .colab-df-convert {\n",
              "      background-color: #3B4455;\n",
              "      fill: #D2E3FC;\n",
              "    }\n",
              "\n",
              "    [theme=dark] .colab-df-convert:hover {\n",
              "      background-color: #434B5C;\n",
              "      box-shadow: 0px 1px 3px 1px rgba(0, 0, 0, 0.15);\n",
              "      filter: drop-shadow(0px 1px 2px rgba(0, 0, 0, 0.3));\n",
              "      fill: #FFFFFF;\n",
              "    }\n",
              "  </style>\n",
              "\n",
              "      <script>\n",
              "        const buttonEl =\n",
              "          document.querySelector('#df-61357192-a670-4d3c-a25e-3c8fcc97cd44 button.colab-df-convert');\n",
              "        buttonEl.style.display =\n",
              "          google.colab.kernel.accessAllowed ? 'block' : 'none';\n",
              "\n",
              "        async function convertToInteractive(key) {\n",
              "          const element = document.querySelector('#df-61357192-a670-4d3c-a25e-3c8fcc97cd44');\n",
              "          const dataTable =\n",
              "            await google.colab.kernel.invokeFunction('convertToInteractive',\n",
              "                                                     [key], {});\n",
              "          if (!dataTable) return;\n",
              "\n",
              "          const docLinkHtml = 'Like what you see? Visit the ' +\n",
              "            '<a target=\"_blank\" href=https://colab.research.google.com/notebooks/data_table.ipynb>data table notebook</a>'\n",
              "            + ' to learn more about interactive tables.';\n",
              "          element.innerHTML = '';\n",
              "          dataTable['output_type'] = 'display_data';\n",
              "          await google.colab.output.renderOutput(dataTable, element);\n",
              "          const docLink = document.createElement('div');\n",
              "          docLink.innerHTML = docLinkHtml;\n",
              "          element.appendChild(docLink);\n",
              "        }\n",
              "      </script>\n",
              "    </div>\n",
              "  </div>\n",
              "  "
            ]
          },
          "metadata": {},
          "execution_count": 42
        }
      ]
    },
    {
      "cell_type": "code",
      "source": [
        "objectives = ['accuracy', 'f1_score']\n",
        "alpha = 0.05\n",
        " \n",
        "print('Null hypothesis:', 'The means of the results of two or more algorithms are the same.')\n",
        "\n",
        "dataset = '-'\n",
        "  \n",
        "data = df\n",
        "cnns = data.cnn.unique()\n",
        "\n",
        "for objective in objectives:\n",
        "  \n",
        "  print('Dataset, objective:', dataset, objective)\n",
        "  \n",
        "  df1 = pd.DataFrame({cnn: list(data[data.cnn == cnn][objective]) for cnn in cnns})\n",
        "  values = df1.values\n",
        "  names = df1.columns    \n",
        "  print('\\t', 'values:', values)\n",
        "  print('\\t', '*values:', *values)\n",
        "  print('\\t', 'names:', list(names))\n",
        "\n",
        "  friedman = friedmanchisquare(*values)\n",
        "  ranks = np.array([rankdata(-p) for p in values])\n",
        "  average_ranks = np.mean(ranks, axis = 0)\n",
        "  \n",
        "  cd = compute_CD(average_ranks, n=len(df1), alpha=str(alpha), test='nemenyi')\n",
        "  \n",
        "  print('\\t', 'null hypothesis:', 'rejected' if friedman.pvalue < alpha else 'accepted')\n",
        "  print('\\t', 'p-value:', friedman.pvalue)\n",
        "  print('\\t', 'ranking:', average_ranks)\n",
        "  print('\\t', 'names:', list(names))\n",
        "  print('\\t', 'cd:', cd)\n",
        "  \n",
        "  graph_ranks(average_ranks, names=names, cd=cd)\n",
        "  # title = f'Friedman-Nemenyi (CD = {round(cd, 3)})'\n",
        "  title = f'Dataset: {dataset}, Metric: {objective}, CD: {round(cd, 3)}'\n",
        "  plt.title(title)\n",
        "  plt.suptitle('p-value: {:.2e}'.format(friedman.pvalue))\n",
        "  plt.savefig(f'/content/cd_{dataset}_{objective}.pdf', bbox_inches='tight')\n",
        "  plt.show()\n"
      ],
      "metadata": {
        "colab": {
          "base_uri": "https://localhost:8080/",
          "height": 464
        },
        "id": "8Ajw3Kw9MeBI",
        "outputId": "dcd3b26b-ce81-489d-b570-982264fc3335"
      },
      "execution_count": null,
      "outputs": [
        {
          "output_type": "stream",
          "name": "stdout",
          "text": [
            "Null hypothesis: The means of the results of two or more algorithms are the same.\n",
            "Dataset, objective: - accuracy\n",
            "\t values: [[995.15  995.05  985.725 992.975 995.275 988.075 994.675 993.75  995.025]]\n",
            "\t *values: [995.15  995.05  985.725 992.975 995.275 988.075 994.675 993.75  995.025]\n",
            "\t names: ['Assunção et al. (2018)', 'DenseNet169', 'Diniz et al. (2018)', 'EfficientNetB1', 'InceptionV3', 'Lima et al. (2019)', 'ResNet50V2', 'Silva et al. (2021a)', 'Silva et al. (2021b)']\n"
          ]
        },
        {
          "output_type": "error",
          "ename": "ValueError",
          "evalue": "ignored",
          "traceback": [
            "\u001b[0;31m---------------------------------------------------------------------------\u001b[0m",
            "\u001b[0;31mValueError\u001b[0m                                Traceback (most recent call last)",
            "\u001b[0;32m<ipython-input-44-583dc0eb980e>\u001b[0m in \u001b[0;36m<module>\u001b[0;34m()\u001b[0m\n\u001b[1;32m     20\u001b[0m   \u001b[0mprint\u001b[0m\u001b[0;34m(\u001b[0m\u001b[0;34m'\\t'\u001b[0m\u001b[0;34m,\u001b[0m \u001b[0;34m'names:'\u001b[0m\u001b[0;34m,\u001b[0m \u001b[0mlist\u001b[0m\u001b[0;34m(\u001b[0m\u001b[0mnames\u001b[0m\u001b[0;34m)\u001b[0m\u001b[0;34m)\u001b[0m\u001b[0;34m\u001b[0m\u001b[0;34m\u001b[0m\u001b[0m\n\u001b[1;32m     21\u001b[0m \u001b[0;34m\u001b[0m\u001b[0m\n\u001b[0;32m---> 22\u001b[0;31m   \u001b[0mfriedman\u001b[0m \u001b[0;34m=\u001b[0m \u001b[0mfriedmanchisquare\u001b[0m\u001b[0;34m(\u001b[0m\u001b[0;34m*\u001b[0m\u001b[0mvalues\u001b[0m\u001b[0;34m)\u001b[0m\u001b[0;34m\u001b[0m\u001b[0;34m\u001b[0m\u001b[0m\n\u001b[0m\u001b[1;32m     23\u001b[0m   \u001b[0mranks\u001b[0m \u001b[0;34m=\u001b[0m \u001b[0mnp\u001b[0m\u001b[0;34m.\u001b[0m\u001b[0marray\u001b[0m\u001b[0;34m(\u001b[0m\u001b[0;34m[\u001b[0m\u001b[0mrankdata\u001b[0m\u001b[0;34m(\u001b[0m\u001b[0;34m-\u001b[0m\u001b[0mp\u001b[0m\u001b[0;34m)\u001b[0m \u001b[0;32mfor\u001b[0m \u001b[0mp\u001b[0m \u001b[0;32min\u001b[0m \u001b[0mvalues\u001b[0m\u001b[0;34m]\u001b[0m\u001b[0;34m)\u001b[0m\u001b[0;34m\u001b[0m\u001b[0;34m\u001b[0m\u001b[0m\n\u001b[1;32m     24\u001b[0m   \u001b[0maverage_ranks\u001b[0m \u001b[0;34m=\u001b[0m \u001b[0mnp\u001b[0m\u001b[0;34m.\u001b[0m\u001b[0mmean\u001b[0m\u001b[0;34m(\u001b[0m\u001b[0mranks\u001b[0m\u001b[0;34m,\u001b[0m \u001b[0maxis\u001b[0m \u001b[0;34m=\u001b[0m \u001b[0;36m0\u001b[0m\u001b[0;34m)\u001b[0m\u001b[0;34m\u001b[0m\u001b[0;34m\u001b[0m\u001b[0m\n",
            "\u001b[0;32m/usr/local/lib/python3.7/dist-packages/scipy/stats/stats.py\u001b[0m in \u001b[0;36mfriedmanchisquare\u001b[0;34m(*args)\u001b[0m\n\u001b[1;32m   6644\u001b[0m     \u001b[0mk\u001b[0m \u001b[0;34m=\u001b[0m \u001b[0mlen\u001b[0m\u001b[0;34m(\u001b[0m\u001b[0margs\u001b[0m\u001b[0;34m)\u001b[0m\u001b[0;34m\u001b[0m\u001b[0;34m\u001b[0m\u001b[0m\n\u001b[1;32m   6645\u001b[0m     \u001b[0;32mif\u001b[0m \u001b[0mk\u001b[0m \u001b[0;34m<\u001b[0m \u001b[0;36m3\u001b[0m\u001b[0;34m:\u001b[0m\u001b[0;34m\u001b[0m\u001b[0;34m\u001b[0m\u001b[0m\n\u001b[0;32m-> 6646\u001b[0;31m         \u001b[0;32mraise\u001b[0m \u001b[0mValueError\u001b[0m\u001b[0;34m(\u001b[0m\u001b[0;34m'Less than 3 levels.  Friedman test not appropriate.'\u001b[0m\u001b[0;34m)\u001b[0m\u001b[0;34m\u001b[0m\u001b[0;34m\u001b[0m\u001b[0m\n\u001b[0m\u001b[1;32m   6647\u001b[0m \u001b[0;34m\u001b[0m\u001b[0m\n\u001b[1;32m   6648\u001b[0m     \u001b[0mn\u001b[0m \u001b[0;34m=\u001b[0m \u001b[0mlen\u001b[0m\u001b[0;34m(\u001b[0m\u001b[0margs\u001b[0m\u001b[0;34m[\u001b[0m\u001b[0;36m0\u001b[0m\u001b[0;34m]\u001b[0m\u001b[0;34m)\u001b[0m\u001b[0;34m\u001b[0m\u001b[0;34m\u001b[0m\u001b[0m\n",
            "\u001b[0;31mValueError\u001b[0m: Less than 3 levels.  Friedman test not appropriate."
          ]
        }
      ]
    }
  ]
}